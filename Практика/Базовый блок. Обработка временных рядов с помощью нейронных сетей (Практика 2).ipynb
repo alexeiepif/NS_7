{
 "cells": [
  {
   "cell_type": "markdown",
   "metadata": {
    "id": "j6wXQHNqayHI"
   },
   "source": [
    "**Содержание темы**\n",
    "\n",
    "1. [Теория](https://colab.research.google.com/drive/1i7yg4JvtG_L24T_2VPVTTWlXWrRdgvqQ?usp=sharing)\n",
    "\n",
    "2. [Практический ноутбук 1](https://colab.research.google.com/drive/1JhNKmphhIAZ9MCqm9_-vsnJkiLxTTv5d?usp=sharing)\n",
    "\n",
    "3. Практический ноутбук 2\n"
   ]
  },
  {
   "cell_type": "markdown",
   "metadata": {
    "id": "5NUT6eCXG6HM"
   },
   "source": [
    "Данный блок во многом повторяет предыдущий, за исключением некоторых особенностей. В разбираемых моделях будем работать только с ценой закрытия."
   ]
  },
  {
   "cell_type": "markdown",
   "metadata": {
    "id": "-p4B169KRNOV"
   },
   "source": [
    "# Обработка временных рядов с помощью нейронных сетей"
   ]
  },
  {
   "cell_type": "markdown",
   "metadata": {
    "id": "JOh_g2CLcILF"
   },
   "source": [
    "# Задача: Предсказание тренда акций Сбербанка"
   ]
  },
  {
   "cell_type": "markdown",
   "metadata": {
    "id": "e0kwb74IyoBp"
   },
   "source": [
    "## Загрузка библиотек"
   ]
  },
  {
   "cell_type": "markdown",
   "metadata": {
    "id": "a95XdrTSKR28"
   },
   "source": [
    "Подгрузим библиотеки и необходимые инструменты:"
   ]
  },
  {
   "cell_type": "code",
   "execution_count": 1,
   "metadata": {
    "id": "OOweilL20R7n"
   },
   "outputs": [
    {
     "name": "stderr",
     "output_type": "stream",
     "text": [
      "WARNING: All log messages before absl::InitializeLog() is called are written to STDERR\n",
      "E0000 00:00:1747651682.751131   12191 cuda_dnn.cc:8310] Unable to register cuDNN factory: Attempting to register factory for plugin cuDNN when one has already been registered\n",
      "E0000 00:00:1747651682.756262   12191 cuda_blas.cc:1418] Unable to register cuBLAS factory: Attempting to register factory for plugin cuBLAS when one has already been registered\n"
     ]
    }
   ],
   "source": [
    "# Работа с массивами\n",
    "import numpy as np\n",
    "\n",
    "# Работа с таблицами\n",
    "import pandas as pd\n",
    "\n",
    "# Кодирование категориальных данных в формате OHE\n",
    "from tensorflow.keras.utils import to_categorical\n",
    "\n",
    "# Классы-конструкторы моделей нейронных сетей\n",
    "from tensorflow.keras.models import Sequential, Model\n",
    "\n",
    "# Основные слои\n",
    "from tensorflow.keras.layers import concatenate, Input, Dense, Dropout, BatchNormalization, Flatten, Conv1D, Conv2D, LSTM, GlobalMaxPooling1D, MaxPooling1D, RepeatVector\n",
    "\n",
    "# Оптимизаторы\n",
    "from tensorflow.keras.optimizers import Adam\n",
    "\n",
    "# Нормировщики\n",
    "from sklearn.preprocessing import StandardScaler, MinMaxScaler\n",
    "\n",
    "# Матрица ошибок классификатора\n",
    "from sklearn.metrics import confusion_matrix, ConfusionMatrixDisplay\n",
    "\n",
    "# Загрузка датасетов из облака google\n",
    "import gdown\n",
    "\n",
    "# Отрисовка графиков\n",
    "import matplotlib.pyplot as plt\n",
    "\n",
    "# Отрисовка графики в ячейке colab\n",
    "%matplotlib inline\n",
    "\n",
    "# Отключение предупреждений\n",
    "import warnings\n",
    "warnings.filterwarnings('ignore')"
   ]
  },
  {
   "cell_type": "code",
   "execution_count": 2,
   "metadata": {
    "id": "WGk09Kc7v4_X"
   },
   "outputs": [],
   "source": [
    "# Назначение размера и стиля графиков по умолчанию\n",
    "from pylab import rcParams\n",
    "plt.style.use('ggplot')\n",
    "rcParams['figure.figsize'] = (14, 7)"
   ]
  },
  {
   "cell_type": "markdown",
   "metadata": {
    "id": "PhoCV8mIc9j8"
   },
   "source": [
    "## Загрузка датасета и подготовка данных"
   ]
  },
  {
   "cell_type": "markdown",
   "metadata": {
    "id": "U6g0lBfI8QQC"
   },
   "source": [
    "### Загрузка данных"
   ]
  },
  {
   "cell_type": "code",
   "execution_count": 3,
   "metadata": {
    "colab": {
     "base_uri": "https://localhost:8080/",
     "height": 35
    },
    "id": "FBwSCEV-n_P3",
    "outputId": "7e17b19c-3c7e-450c-e37a-f7ee4b360379"
   },
   "outputs": [
    {
     "data": {
      "text/plain": [
       "'SBER_MIN60.txt'"
      ]
     },
     "execution_count": 3,
     "metadata": {},
     "output_type": "execute_result"
    }
   ],
   "source": [
    "# Загрузка датасетов из облака\n",
    "gdown.download('https://storage.yandexcloud.net/aiueducation/Content/base/l11/SBER_MIN60.txt', None, quiet=True)"
   ]
  },
  {
   "cell_type": "code",
   "execution_count": 4,
   "metadata": {
    "id": "P3K08guAoJfs"
   },
   "outputs": [],
   "source": [
    "# Чтение данных в таблицу Pandas и назначение имен столбцов\n",
    "data = pd.read_csv('SBER_MIN60.txt', sep=\"\\t\", names=['Datetime', 'Open', 'High', 'Low', 'Close'])"
   ]
  },
  {
   "cell_type": "code",
   "execution_count": 5,
   "metadata": {
    "id": "veKToILNUqT3"
   },
   "outputs": [],
   "source": [
    "# Настройка имен столбцов\n",
    "COL_DATE = 'Datetime'\n",
    "COL_CLOSE = 'Close'\n",
    "\n",
    "# Настройка временного интервала для ограничения данных\n",
    "TIME_RANGE = ('2010-09-01 10:00:00.000', '2018-12-31 23:59:00.000')"
   ]
  },
  {
   "cell_type": "code",
   "execution_count": 6,
   "metadata": {
    "colab": {
     "base_uri": "https://localhost:8080/",
     "height": 455
    },
    "id": "jfBpKsPyU4ZV",
    "outputId": "6fd7f2dd-76fa-4080-fc52-69219854ddc2"
   },
   "outputs": [
    {
     "data": {
      "application/vnd.microsoft.datawrangler.viewer.v0+json": {
       "columns": [
        {
         "name": "Datetime",
         "rawType": "datetime64[ns]",
         "type": "datetime"
        },
        {
         "name": "Open",
         "rawType": "float64",
         "type": "float"
        },
        {
         "name": "High",
         "rawType": "float64",
         "type": "float"
        },
        {
         "name": "Low",
         "rawType": "float64",
         "type": "float"
        },
        {
         "name": "Close",
         "rawType": "float64",
         "type": "float"
        }
       ],
       "ref": "e1fce9ab-f178-4b43-bc87-34bc0ada38d9",
       "rows": [
        [
         "2010-09-01 10:00:00",
         "78.55",
         "78.67",
         "77.94",
         "78.04"
        ],
        [
         "2010-09-01 11:00:00",
         "78.04",
         "78.1",
         "77.6",
         "78.0"
        ],
        [
         "2010-09-01 12:00:00",
         "78.0",
         "78.88",
         "77.98",
         "78.88"
        ],
        [
         "2010-09-01 13:00:00",
         "78.89",
         "79.19",
         "78.8",
         "78.85"
        ],
        [
         "2010-09-01 14:00:00",
         "78.85",
         "78.99",
         "78.61",
         "78.86"
        ],
        [
         "2010-09-01 15:00:00",
         "78.87",
         "79.05",
         "78.65",
         "78.91"
        ],
        [
         "2010-09-01 16:00:00",
         "78.91",
         "79.25",
         "78.62",
         "79.09"
        ],
        [
         "2010-09-01 17:00:00",
         "79.08",
         "79.28",
         "78.7",
         "78.88"
        ],
        [
         "2010-09-01 18:00:00",
         "78.88",
         "80.56",
         "78.88",
         "80.42"
        ],
        [
         "2010-09-02 10:00:00",
         "80.44",
         "80.49",
         "79.94",
         "80.31"
        ],
        [
         "2010-09-02 11:00:00",
         "80.31",
         "80.39",
         "80.01",
         "80.18"
        ],
        [
         "2010-09-02 12:00:00",
         "80.17",
         "81.21",
         "80.07",
         "80.63"
        ],
        [
         "2010-09-02 13:00:00",
         "80.62",
         "81.25",
         "80.6",
         "81.24"
        ],
        [
         "2010-09-02 14:00:00",
         "81.24",
         "81.25",
         "80.65",
         "80.85"
        ],
        [
         "2010-09-02 15:00:00",
         "80.87",
         "81.0",
         "80.12",
         "80.4"
        ],
        [
         "2010-09-02 16:00:00",
         "80.4",
         "81.18",
         "80.2",
         "80.83"
        ],
        [
         "2010-09-02 17:00:00",
         "80.83",
         "80.96",
         "80.51",
         "80.85"
        ],
        [
         "2010-09-02 18:00:00",
         "80.85",
         "81.17",
         "80.14",
         "80.63"
        ],
        [
         "2010-09-03 10:00:00",
         "80.7",
         "80.79",
         "80.27",
         "80.77"
        ],
        [
         "2010-09-03 11:00:00",
         "80.76",
         "80.82",
         "80.35",
         "80.74"
        ],
        [
         "2010-09-03 12:00:00",
         "80.74",
         "80.79",
         "80.42",
         "80.49"
        ],
        [
         "2010-09-03 13:00:00",
         "80.49",
         "80.66",
         "80.37",
         "80.55"
        ],
        [
         "2010-09-03 14:00:00",
         "80.53",
         "80.74",
         "80.5",
         "80.62"
        ],
        [
         "2010-09-03 15:00:00",
         "80.61",
         "80.65",
         "80.47",
         "80.55"
        ],
        [
         "2010-09-03 16:00:00",
         "80.55",
         "82.06",
         "80.48",
         "81.7"
        ],
        [
         "2010-09-03 17:00:00",
         "81.7",
         "82.35",
         "81.67",
         "82.14"
        ],
        [
         "2010-09-03 18:00:00",
         "82.15",
         "82.15",
         "81.32",
         "81.72"
        ],
        [
         "2010-09-06 10:00:00",
         "82.11",
         "82.26",
         "81.93",
         "82.14"
        ],
        [
         "2010-09-06 11:00:00",
         "82.14",
         "82.4",
         "81.78",
         "81.89"
        ],
        [
         "2010-09-06 12:00:00",
         "81.89",
         "81.9",
         "81.56",
         "81.71"
        ],
        [
         "2010-09-06 13:00:00",
         "81.72",
         "81.98",
         "81.61",
         "81.9"
        ],
        [
         "2010-09-06 14:00:00",
         "81.88",
         "81.91",
         "81.68",
         "81.73"
        ],
        [
         "2010-09-06 15:00:00",
         "81.73",
         "81.95",
         "81.66",
         "81.75"
        ],
        [
         "2010-09-06 16:00:00",
         "81.78",
         "81.9",
         "81.72",
         "81.87"
        ],
        [
         "2010-09-06 17:00:00",
         "81.86",
         "82.03",
         "81.82",
         "81.96"
        ],
        [
         "2010-09-06 18:00:00",
         "81.96",
         "81.99",
         "81.71",
         "81.74"
        ],
        [
         "2010-09-07 10:00:00",
         "81.39",
         "81.4",
         "80.75",
         "80.77"
        ],
        [
         "2010-09-07 11:00:00",
         "80.77",
         "80.95",
         "80.56",
         "80.63"
        ],
        [
         "2010-09-07 12:00:00",
         "80.64",
         "80.78",
         "80.31",
         "80.58"
        ],
        [
         "2010-09-07 13:00:00",
         "80.56",
         "80.6",
         "80.05",
         "80.06"
        ],
        [
         "2010-09-07 14:00:00",
         "80.13",
         "80.34",
         "79.9",
         "80.26"
        ],
        [
         "2010-09-07 15:00:00",
         "80.29",
         "80.45",
         "80.12",
         "80.38"
        ],
        [
         "2010-09-07 16:00:00",
         "80.39",
         "80.55",
         "80.21",
         "80.53"
        ],
        [
         "2010-09-07 17:00:00",
         "80.5",
         "80.75",
         "80.01",
         "80.06"
        ],
        [
         "2010-09-07 18:00:00",
         "80.04",
         "80.25",
         "79.77",
         "79.95"
        ],
        [
         "2010-09-08 10:00:00",
         "79.66",
         "80.09",
         "79.42",
         "79.99"
        ],
        [
         "2010-09-08 11:00:00",
         "79.99",
         "81.0",
         "79.98",
         "80.42"
        ],
        [
         "2010-09-08 12:00:00",
         "80.42",
         "80.74",
         "80.23",
         "80.42"
        ],
        [
         "2010-09-08 13:00:00",
         "80.42",
         "80.56",
         "80.32",
         "80.48"
        ],
        [
         "2010-09-08 14:00:00",
         "80.48",
         "81.75",
         "80.34",
         "81.53"
        ]
       ],
       "shape": {
        "columns": 4,
        "rows": 18818
       }
      },
      "text/html": [
       "<div>\n",
       "<style scoped>\n",
       "    .dataframe tbody tr th:only-of-type {\n",
       "        vertical-align: middle;\n",
       "    }\n",
       "\n",
       "    .dataframe tbody tr th {\n",
       "        vertical-align: top;\n",
       "    }\n",
       "\n",
       "    .dataframe thead th {\n",
       "        text-align: right;\n",
       "    }\n",
       "</style>\n",
       "<table border=\"1\" class=\"dataframe\">\n",
       "  <thead>\n",
       "    <tr style=\"text-align: right;\">\n",
       "      <th></th>\n",
       "      <th>Open</th>\n",
       "      <th>High</th>\n",
       "      <th>Low</th>\n",
       "      <th>Close</th>\n",
       "    </tr>\n",
       "    <tr>\n",
       "      <th>Datetime</th>\n",
       "      <th></th>\n",
       "      <th></th>\n",
       "      <th></th>\n",
       "      <th></th>\n",
       "    </tr>\n",
       "  </thead>\n",
       "  <tbody>\n",
       "    <tr>\n",
       "      <th>2010-09-01 10:00:00</th>\n",
       "      <td>78.55</td>\n",
       "      <td>78.67</td>\n",
       "      <td>77.94</td>\n",
       "      <td>78.04</td>\n",
       "    </tr>\n",
       "    <tr>\n",
       "      <th>2010-09-01 11:00:00</th>\n",
       "      <td>78.04</td>\n",
       "      <td>78.10</td>\n",
       "      <td>77.60</td>\n",
       "      <td>78.00</td>\n",
       "    </tr>\n",
       "    <tr>\n",
       "      <th>2010-09-01 12:00:00</th>\n",
       "      <td>78.00</td>\n",
       "      <td>78.88</td>\n",
       "      <td>77.98</td>\n",
       "      <td>78.88</td>\n",
       "    </tr>\n",
       "    <tr>\n",
       "      <th>2010-09-01 13:00:00</th>\n",
       "      <td>78.89</td>\n",
       "      <td>79.19</td>\n",
       "      <td>78.80</td>\n",
       "      <td>78.85</td>\n",
       "    </tr>\n",
       "    <tr>\n",
       "      <th>2010-09-01 14:00:00</th>\n",
       "      <td>78.85</td>\n",
       "      <td>78.99</td>\n",
       "      <td>78.61</td>\n",
       "      <td>78.86</td>\n",
       "    </tr>\n",
       "    <tr>\n",
       "      <th>...</th>\n",
       "      <td>...</td>\n",
       "      <td>...</td>\n",
       "      <td>...</td>\n",
       "      <td>...</td>\n",
       "    </tr>\n",
       "    <tr>\n",
       "      <th>2018-12-29 14:00:00</th>\n",
       "      <td>186.07</td>\n",
       "      <td>186.08</td>\n",
       "      <td>185.78</td>\n",
       "      <td>185.88</td>\n",
       "    </tr>\n",
       "    <tr>\n",
       "      <th>2018-12-29 15:00:00</th>\n",
       "      <td>185.88</td>\n",
       "      <td>185.95</td>\n",
       "      <td>185.70</td>\n",
       "      <td>185.70</td>\n",
       "    </tr>\n",
       "    <tr>\n",
       "      <th>2018-12-29 16:00:00</th>\n",
       "      <td>185.70</td>\n",
       "      <td>186.15</td>\n",
       "      <td>185.70</td>\n",
       "      <td>186.15</td>\n",
       "    </tr>\n",
       "    <tr>\n",
       "      <th>2018-12-29 17:00:00</th>\n",
       "      <td>186.15</td>\n",
       "      <td>186.35</td>\n",
       "      <td>186.00</td>\n",
       "      <td>186.02</td>\n",
       "    </tr>\n",
       "    <tr>\n",
       "      <th>2018-12-29 18:00:00</th>\n",
       "      <td>186.05</td>\n",
       "      <td>186.49</td>\n",
       "      <td>185.97</td>\n",
       "      <td>186.34</td>\n",
       "    </tr>\n",
       "  </tbody>\n",
       "</table>\n",
       "<p>18818 rows × 4 columns</p>\n",
       "</div>"
      ],
      "text/plain": [
       "                       Open    High     Low   Close\n",
       "Datetime                                           \n",
       "2010-09-01 10:00:00   78.55   78.67   77.94   78.04\n",
       "2010-09-01 11:00:00   78.04   78.10   77.60   78.00\n",
       "2010-09-01 12:00:00   78.00   78.88   77.98   78.88\n",
       "2010-09-01 13:00:00   78.89   79.19   78.80   78.85\n",
       "2010-09-01 14:00:00   78.85   78.99   78.61   78.86\n",
       "...                     ...     ...     ...     ...\n",
       "2018-12-29 14:00:00  186.07  186.08  185.78  185.88\n",
       "2018-12-29 15:00:00  185.88  185.95  185.70  185.70\n",
       "2018-12-29 16:00:00  185.70  186.15  185.70  186.15\n",
       "2018-12-29 17:00:00  186.15  186.35  186.00  186.02\n",
       "2018-12-29 18:00:00  186.05  186.49  185.97  186.34\n",
       "\n",
       "[18818 rows x 4 columns]"
      ]
     },
     "execution_count": 6,
     "metadata": {},
     "output_type": "execute_result"
    }
   ],
   "source": [
    "# Преобразование столбца даты в индекс таблицы и удаление ненужного столбца даты\n",
    "data.index = pd.to_datetime(data[COL_DATE])\n",
    "data.drop(columns=COL_DATE, inplace=True)\n",
    "\n",
    "# Отбор данных по заданному временному интервалу\n",
    "mask = (data.index >= TIME_RANGE[0]) & (data.index <= TIME_RANGE[1])\n",
    "data = data[mask]\n",
    "data"
   ]
  },
  {
   "cell_type": "markdown",
   "metadata": {
    "id": "nyqigyYT8TLj"
   },
   "source": [
    "### Иллюстрация данных в графическом виде"
   ]
  },
  {
   "cell_type": "code",
   "execution_count": 7,
   "metadata": {
    "colab": {
     "base_uri": "https://localhost:8080/",
     "height": 500
    },
    "id": "kChuauc8oTjr",
    "outputId": "820d4b10-5803-476a-d1ab-24e96beeb912"
   },
   "outputs": [
    {
     "data": {
      "image/png": "[encoded data removed]",
      "text/plain": [
       "<Figure size 2000x800 with 1 Axes>"
      ]
     },
     "metadata": {},
     "output_type": "display_data"
    }
   ],
   "source": [
    "# Отображение временного ряда в графическом виде\n",
    "plt.figure(figsize=(20, 8))\n",
    "plt.plot(data.index, data[COL_CLOSE])\n",
    "plt.title('График цены на SBER (1h)')\n",
    "plt.show()"
   ]
  },
  {
   "cell_type": "markdown",
   "metadata": {
    "id": "CKpTtma9Vw8W"
   },
   "source": [
    "### Подготовка выборок данных для нейросети\n",
    "\n",
    "\n"
   ]
  },
  {
   "cell_type": "markdown",
   "metadata": {
    "id": "gU6oQM_w2HaY"
   },
   "source": [
    "#### **Задание гиперпараметров**"
   ]
  },
  {
   "cell_type": "markdown",
   "metadata": {
    "id": "vtd_LrQV_Sx2"
   },
   "source": [
    "Длина элемента выборки равна 19, а нейронка предсказывает два варианта – Нисходящий или Восходящий тренд (0 или 1) (простыми словами: цена упадет или вырастет)\n",
    "\n",
    "**Indicator_Depth** – В НС будет подаваться не только цена закрытия, но и разница между значениями. Данный параметр показывает насколько глубоко мы будем анализировать разницу в индикаторах.\n",
    "\n",
    "Особенность выборок в данной задаче в том, что в обучающей наблюдается растущий тренд, а в тестовой – наоборот."
   ]
  },
  {
   "cell_type": "code",
   "execution_count": 8,
   "metadata": {
    "id": "3ibYUQH8oFYk"
   },
   "outputs": [],
   "source": [
    "# Задание гиперпараметров\n",
    "INDICATOR_DEPTH = 14                      # Глубина расчета индикаторов тренда (шаги)\n",
    "SEQ_LEN = 19                              # Длина серии (подпоследовательности) входных данных для анализа\n",
    "PREDICT_LAG = 1                           # Количество шагов в будущее для предсказания\n",
    "TEST_LEN = 600                            # Объем тестовой выборки (в конце данных)\n",
    "CLASS_LABELS = ['Нисходящий/боковой',\n",
    "                'Восходящий']             # Метки классов: 0-нисходящий/боковой тренд, 1-восходящий тренд"
   ]
  },
  {
   "cell_type": "markdown",
   "metadata": {
    "id": "HTwMS1gr2NDd"
   },
   "source": [
    "#### **Расчет признаков тренда**"
   ]
  },
  {
   "cell_type": "markdown",
   "metadata": {
    "id": "rhq_e26R_0Nf"
   },
   "source": [
    "Добавим дополнительные 14 колонок. При помощи pct_change() получим необходимые значения.\n",
    "\n",
    "Принцип работы таков: следующее значение делится на предыдущее и вычитается 1.\n",
    "\n",
    "Логика этих 14 столбцов заключается в том, что происходит фиксация изменения цены закрытия по отношению к 14-ти предыдущим ценам закрытия."
   ]
  },
  {
   "cell_type": "code",
   "execution_count": 9,
   "metadata": {
    "colab": {
     "base_uri": "https://localhost:8080/",
     "height": 492
    },
    "id": "XVxiRBZtoWmb",
    "outputId": "91ab0738-2c91-4b64-847c-c27ba1b767ee"
   },
   "outputs": [
    {
     "name": "stdout",
     "output_type": "stream",
     "text": [
      "(18818, 18)\n"
     ]
    },
    {
     "data": {
      "application/vnd.microsoft.datawrangler.viewer.v0+json": {
       "columns": [
        {
         "name": "Datetime",
         "rawType": "datetime64[ns]",
         "type": "datetime"
        },
        {
         "name": "Open",
         "rawType": "float64",
         "type": "float"
        },
        {
         "name": "High",
         "rawType": "float64",
         "type": "float"
        },
        {
         "name": "Low",
         "rawType": "float64",
         "type": "float"
        },
        {
         "name": "Close",
         "rawType": "float64",
         "type": "float"
        },
        {
         "name": "Close_chng_1",
         "rawType": "float64",
         "type": "float"
        },
        {
         "name": "Close_chng_2",
         "rawType": "float64",
         "type": "float"
        },
        {
         "name": "Close_chng_3",
         "rawType": "float64",
         "type": "float"
        },
        {
         "name": "Close_chng_4",
         "rawType": "float64",
         "type": "float"
        },
        {
         "name": "Close_chng_5",
         "rawType": "float64",
         "type": "float"
        },
        {
         "name": "Close_chng_6",
         "rawType": "float64",
         "type": "float"
        },
        {
         "name": "Close_chng_7",
         "rawType": "float64",
         "type": "float"
        },
        {
         "name": "Close_chng_8",
         "rawType": "float64",
         "type": "float"
        },
        {
         "name": "Close_chng_9",
         "rawType": "float64",
         "type": "float"
        },
        {
         "name": "Close_chng_10",
         "rawType": "float64",
         "type": "float"
        },
        {
         "name": "Close_chng_11",
         "rawType": "float64",
         "type": "float"
        },
        {
         "name": "Close_chng_12",
         "rawType": "float64",
         "type": "float"
        },
        {
         "name": "Close_chng_13",
         "rawType": "float64",
         "type": "float"
        },
        {
         "name": "Close_chng_14",
         "rawType": "float64",
         "type": "float"
        }
       ],
       "ref": "29bada11-09e6-40e7-96d0-5e93eb58df97",
       "rows": [
        [
         "2010-09-01 10:00:00",
         "78.55",
         "78.67",
         "77.94",
         "78.04",
         null,
         null,
         null,
         null,
         null,
         null,
         null,
         null,
         null,
         null,
         null,
         null,
         null,
         null
        ],
        [
         "2010-09-01 11:00:00",
         "78.04",
         "78.1",
         "77.6",
         "78.0",
         "-0.0005125576627371675",
         null,
         null,
         null,
         null,
         null,
         null,
         null,
         null,
         null,
         null,
         null,
         null,
         null
        ],
        [
         "2010-09-01 12:00:00",
         "78.0",
         "78.88",
         "77.98",
         "78.88",
         "0.011282051282051286",
         "0.010763710917478075",
         null,
         null,
         null,
         null,
         null,
         null,
         null,
         null,
         null,
         null,
         null,
         null
        ],
        [
         "2010-09-01 13:00:00",
         "78.89",
         "79.19",
         "78.8",
         "78.85",
         "-0.00038032454361058843",
         "0.010897435897435859",
         "0.010379292670425366",
         null,
         null,
         null,
         null,
         null,
         null,
         null,
         null,
         null,
         null,
         null
        ],
        [
         "2010-09-01 14:00:00",
         "78.85",
         "78.99",
         "78.61",
         "78.86",
         "0.00012682308180100854",
         "-0.00025354969574031827",
         "0.011025641025641075",
         "0.010507432086109603",
         null,
         null,
         null,
         null,
         null,
         null,
         null,
         null,
         null,
         null
        ]
       ],
       "shape": {
        "columns": 18,
        "rows": 5
       }
      },
      "text/html": [
       "<div>\n",
       "<style scoped>\n",
       "    .dataframe tbody tr th:only-of-type {\n",
       "        vertical-align: middle;\n",
       "    }\n",
       "\n",
       "    .dataframe tbody tr th {\n",
       "        vertical-align: top;\n",
       "    }\n",
       "\n",
       "    .dataframe thead th {\n",
       "        text-align: right;\n",
       "    }\n",
       "</style>\n",
       "<table border=\"1\" class=\"dataframe\">\n",
       "  <thead>\n",
       "    <tr style=\"text-align: right;\">\n",
       "      <th></th>\n",
       "      <th>Open</th>\n",
       "      <th>High</th>\n",
       "      <th>Low</th>\n",
       "      <th>Close</th>\n",
       "      <th>Close_chng_1</th>\n",
       "      <th>Close_chng_2</th>\n",
       "      <th>Close_chng_3</th>\n",
       "      <th>Close_chng_4</th>\n",
       "      <th>Close_chng_5</th>\n",
       "      <th>Close_chng_6</th>\n",
       "      <th>Close_chng_7</th>\n",
       "      <th>Close_chng_8</th>\n",
       "      <th>Close_chng_9</th>\n",
       "      <th>Close_chng_10</th>\n",
       "      <th>Close_chng_11</th>\n",
       "      <th>Close_chng_12</th>\n",
       "      <th>Close_chng_13</th>\n",
       "      <th>Close_chng_14</th>\n",
       "    </tr>\n",
       "    <tr>\n",
       "      <th>Datetime</th>\n",
       "      <th></th>\n",
       "      <th></th>\n",
       "      <th></th>\n",
       "      <th></th>\n",
       "      <th></th>\n",
       "      <th></th>\n",
       "      <th></th>\n",
       "      <th></th>\n",
       "      <th></th>\n",
       "      <th></th>\n",
       "      <th></th>\n",
       "      <th></th>\n",
       "      <th></th>\n",
       "      <th></th>\n",
       "      <th></th>\n",
       "      <th></th>\n",
       "      <th></th>\n",
       "      <th></th>\n",
       "    </tr>\n",
       "  </thead>\n",
       "  <tbody>\n",
       "    <tr>\n",
       "      <th>2010-09-01 10:00:00</th>\n",
       "      <td>78.55</td>\n",
       "      <td>78.67</td>\n",
       "      <td>77.94</td>\n",
       "      <td>78.04</td>\n",
       "      <td>NaN</td>\n",
       "      <td>NaN</td>\n",
       "      <td>NaN</td>\n",
       "      <td>NaN</td>\n",
       "      <td>NaN</td>\n",
       "      <td>NaN</td>\n",
       "      <td>NaN</td>\n",
       "      <td>NaN</td>\n",
       "      <td>NaN</td>\n",
       "      <td>NaN</td>\n",
       "      <td>NaN</td>\n",
       "      <td>NaN</td>\n",
       "      <td>NaN</td>\n",
       "      <td>NaN</td>\n",
       "    </tr>\n",
       "    <tr>\n",
       "      <th>2010-09-01 11:00:00</th>\n",
       "      <td>78.04</td>\n",
       "      <td>78.10</td>\n",
       "      <td>77.60</td>\n",
       "      <td>78.00</td>\n",
       "      <td>-0.000513</td>\n",
       "      <td>NaN</td>\n",
       "      <td>NaN</td>\n",
       "      <td>NaN</td>\n",
       "      <td>NaN</td>\n",
       "      <td>NaN</td>\n",
       "      <td>NaN</td>\n",
       "      <td>NaN</td>\n",
       "      <td>NaN</td>\n",
       "      <td>NaN</td>\n",
       "      <td>NaN</td>\n",
       "      <td>NaN</td>\n",
       "      <td>NaN</td>\n",
       "      <td>NaN</td>\n",
       "    </tr>\n",
       "    <tr>\n",
       "      <th>2010-09-01 12:00:00</th>\n",
       "      <td>78.00</td>\n",
       "      <td>78.88</td>\n",
       "      <td>77.98</td>\n",
       "      <td>78.88</td>\n",
       "      <td>0.011282</td>\n",
       "      <td>0.010764</td>\n",
       "      <td>NaN</td>\n",
       "      <td>NaN</td>\n",
       "      <td>NaN</td>\n",
       "      <td>NaN</td>\n",
       "      <td>NaN</td>\n",
       "      <td>NaN</td>\n",
       "      <td>NaN</td>\n",
       "      <td>NaN</td>\n",
       "      <td>NaN</td>\n",
       "      <td>NaN</td>\n",
       "      <td>NaN</td>\n",
       "      <td>NaN</td>\n",
       "    </tr>\n",
       "    <tr>\n",
       "      <th>2010-09-01 13:00:00</th>\n",
       "      <td>78.89</td>\n",
       "      <td>79.19</td>\n",
       "      <td>78.80</td>\n",
       "      <td>78.85</td>\n",
       "      <td>-0.000380</td>\n",
       "      <td>0.010897</td>\n",
       "      <td>0.010379</td>\n",
       "      <td>NaN</td>\n",
       "      <td>NaN</td>\n",
       "      <td>NaN</td>\n",
       "      <td>NaN</td>\n",
       "      <td>NaN</td>\n",
       "      <td>NaN</td>\n",
       "      <td>NaN</td>\n",
       "      <td>NaN</td>\n",
       "      <td>NaN</td>\n",
       "      <td>NaN</td>\n",
       "      <td>NaN</td>\n",
       "    </tr>\n",
       "    <tr>\n",
       "      <th>2010-09-01 14:00:00</th>\n",
       "      <td>78.85</td>\n",
       "      <td>78.99</td>\n",
       "      <td>78.61</td>\n",
       "      <td>78.86</td>\n",
       "      <td>0.000127</td>\n",
       "      <td>-0.000254</td>\n",
       "      <td>0.011026</td>\n",
       "      <td>0.010507</td>\n",
       "      <td>NaN</td>\n",
       "      <td>NaN</td>\n",
       "      <td>NaN</td>\n",
       "      <td>NaN</td>\n",
       "      <td>NaN</td>\n",
       "      <td>NaN</td>\n",
       "      <td>NaN</td>\n",
       "      <td>NaN</td>\n",
       "      <td>NaN</td>\n",
       "      <td>NaN</td>\n",
       "    </tr>\n",
       "  </tbody>\n",
       "</table>\n",
       "</div>"
      ],
      "text/plain": [
       "                      Open   High    Low  Close  Close_chng_1  Close_chng_2  \\\n",
       "Datetime                                                                      \n",
       "2010-09-01 10:00:00  78.55  78.67  77.94  78.04           NaN           NaN   \n",
       "2010-09-01 11:00:00  78.04  78.10  77.60  78.00     -0.000513           NaN   \n",
       "2010-09-01 12:00:00  78.00  78.88  77.98  78.88      0.011282      0.010764   \n",
       "2010-09-01 13:00:00  78.89  79.19  78.80  78.85     -0.000380      0.010897   \n",
       "2010-09-01 14:00:00  78.85  78.99  78.61  78.86      0.000127     -0.000254   \n",
       "\n",
       "                     Close_chng_3  Close_chng_4  Close_chng_5  Close_chng_6  \\\n",
       "Datetime                                                                      \n",
       "2010-09-01 10:00:00           NaN           NaN           NaN           NaN   \n",
       "2010-09-01 11:00:00           NaN           NaN           NaN           NaN   \n",
       "2010-09-01 12:00:00           NaN           NaN           NaN           NaN   \n",
       "2010-09-01 13:00:00      0.010379           NaN           NaN           NaN   \n",
       "2010-09-01 14:00:00      0.011026      0.010507           NaN           NaN   \n",
       "\n",
       "                     Close_chng_7  Close_chng_8  Close_chng_9  Close_chng_10  \\\n",
       "Datetime                                                                       \n",
       "2010-09-01 10:00:00           NaN           NaN           NaN            NaN   \n",
       "2010-09-01 11:00:00           NaN           NaN           NaN            NaN   \n",
       "2010-09-01 12:00:00           NaN           NaN           NaN            NaN   \n",
       "2010-09-01 13:00:00           NaN           NaN           NaN            NaN   \n",
       "2010-09-01 14:00:00           NaN           NaN           NaN            NaN   \n",
       "\n",
       "                     Close_chng_11  Close_chng_12  Close_chng_13  \\\n",
       "Datetime                                                           \n",
       "2010-09-01 10:00:00            NaN            NaN            NaN   \n",
       "2010-09-01 11:00:00            NaN            NaN            NaN   \n",
       "2010-09-01 12:00:00            NaN            NaN            NaN   \n",
       "2010-09-01 13:00:00            NaN            NaN            NaN   \n",
       "2010-09-01 14:00:00            NaN            NaN            NaN   \n",
       "\n",
       "                     Close_chng_14  \n",
       "Datetime                            \n",
       "2010-09-01 10:00:00            NaN  \n",
       "2010-09-01 11:00:00            NaN  \n",
       "2010-09-01 12:00:00            NaN  \n",
       "2010-09-01 13:00:00            NaN  \n",
       "2010-09-01 14:00:00            NaN  "
      ]
     },
     "execution_count": 9,
     "metadata": {},
     "output_type": "execute_result"
    }
   ],
   "source": [
    "# Расчет индикаторов относительной доходности\n",
    "for i in range(1, INDICATOR_DEPTH + 1):\n",
    "    indicator_change = f'Close_chng_{i}'\n",
    "    # Относительная доходность в сотых долях за период i шагов назад\n",
    "    data[indicator_change] = data[COL_CLOSE].pct_change(i)\n",
    "\n",
    "# Проверка результата\n",
    "print(data.shape)\n",
    "data[:5]"
   ]
  },
  {
   "cell_type": "markdown",
   "metadata": {
    "id": "M8sY1DFrIM9K"
   },
   "source": [
    "Удалим строчки, в которых есть **NaN** (это будут первые 13 строк):"
   ]
  },
  {
   "cell_type": "code",
   "execution_count": 10,
   "metadata": {
    "colab": {
     "base_uri": "https://localhost:8080/",
     "height": 492
    },
    "id": "jJ4pQh4PrCEi",
    "outputId": "401f1af6-3750-44d1-c3fe-6b19bf5a2773"
   },
   "outputs": [
    {
     "name": "stdout",
     "output_type": "stream",
     "text": [
      "(18804, 18)\n"
     ]
    },
    {
     "data": {
      "application/vnd.microsoft.datawrangler.viewer.v0+json": {
       "columns": [
        {
         "name": "Datetime",
         "rawType": "datetime64[ns]",
         "type": "datetime"
        },
        {
         "name": "Open",
         "rawType": "float64",
         "type": "float"
        },
        {
         "name": "High",
         "rawType": "float64",
         "type": "float"
        },
        {
         "name": "Low",
         "rawType": "float64",
         "type": "float"
        },
        {
         "name": "Close",
         "rawType": "float64",
         "type": "float"
        },
        {
         "name": "Close_chng_1",
         "rawType": "float64",
         "type": "float"
        },
        {
         "name": "Close_chng_2",
         "rawType": "float64",
         "type": "float"
        },
        {
         "name": "Close_chng_3",
         "rawType": "float64",
         "type": "float"
        },
        {
         "name": "Close_chng_4",
         "rawType": "float64",
         "type": "float"
        },
        {
         "name": "Close_chng_5",
         "rawType": "float64",
         "type": "float"
        },
        {
         "name": "Close_chng_6",
         "rawType": "float64",
         "type": "float"
        },
        {
         "name": "Close_chng_7",
         "rawType": "float64",
         "type": "float"
        },
        {
         "name": "Close_chng_8",
         "rawType": "float64",
         "type": "float"
        },
        {
         "name": "Close_chng_9",
         "rawType": "float64",
         "type": "float"
        },
        {
         "name": "Close_chng_10",
         "rawType": "float64",
         "type": "float"
        },
        {
         "name": "Close_chng_11",
         "rawType": "float64",
         "type": "float"
        },
        {
         "name": "Close_chng_12",
         "rawType": "float64",
         "type": "float"
        },
        {
         "name": "Close_chng_13",
         "rawType": "float64",
         "type": "float"
        },
        {
         "name": "Close_chng_14",
         "rawType": "float64",
         "type": "float"
        }
       ],
       "ref": "7297d5d4-0a24-420a-8117-18eb0ac5a746",
       "rows": [
        [
         "2010-09-02 15:00:00",
         "80.87",
         "81.0",
         "80.12",
         "80.4",
         "-0.0055658627087197265",
         "-0.010339734121122435",
         "-0.002852536276819917",
         "0.0027438263906209848",
         "0.0011206574523721091",
         "-0.00024869435463814593",
         "0.019269776876267963",
         "0.016563408774813437",
         "0.018882270941579238",
         "0.019528277960943585",
         "0.019657577679137672",
         "0.019269776876267963",
         "0.030769230769230882",
         "0.030240902101486444"
        ],
        [
         "2010-09-02 16:00:00",
         "80.4",
         "81.18",
         "80.2",
         "80.83",
         "0.00534825870646749",
         "-0.00024737167594302",
         "-0.005046774987690794",
         "0.002480466327669628",
         "0.008106759790471374",
         "0.006474909724816236",
         "0.005098234270082047",
         "0.024721095334685694",
         "0.022000252876469784",
         "0.024331516918007834",
         "0.024980978950037924",
         "0.025110970196575932",
         "0.024721095334685694",
         "0.0362820512820512"
        ],
        [
         "2010-09-02 17:00:00",
         "80.83",
         "80.96",
         "80.51",
         "80.85",
         "0.0002474328838302231",
         "0.005597014925373012",
         "0.0",
         "-0.004800590841949837",
         "0.0027285129604366354",
         "0.008356198553254979",
         "0.006723944714232211",
         "0.005346928624720082",
         "0.024974645030426013",
         "0.022253129346314182",
         "0.024584970219237112",
         "0.025234592949530787",
         "0.025364616360177505",
         "0.024974645030426013"
        ],
        [
         "2010-09-02 18:00:00",
         "80.85",
         "81.17",
         "80.14",
         "80.63",
         "-0.0027210884353741083",
         "-0.002474328838302675",
         "0.0028606965174127197",
         "-0.0027210884353741083",
         "-0.007508616445100924",
         "0.0",
         "0.005612372162633994",
         "0.003984559830656043",
         "0.002611290723700588",
         "0.022185598377281845",
         "0.01947148817802491",
         "0.021796983905715273",
         "0.02244483895511018",
         "0.022574508560557982"
        ],
        [
         "2010-09-03 10:00:00",
         "80.7",
         "80.79",
         "80.27",
         "80.77",
         "0.0017363264293688285",
         "-0.000989486703772413",
         "-0.0007422986514907803",
         "0.004601990049751148",
         "-0.000989486703772413",
         "-0.005785327424913778",
         "0.0017363264293688285",
         "0.0073584435021201156",
         "0.005727804756568311",
         "0.004352151206167498",
         "0.023960446247464517",
         "0.021241623466936366",
         "0.02357115701432",
         "0.02422013695155978"
        ]
       ],
       "shape": {
        "columns": 18,
        "rows": 5
       }
      },
      "text/html": [
       "<div>\n",
       "<style scoped>\n",
       "    .dataframe tbody tr th:only-of-type {\n",
       "        vertical-align: middle;\n",
       "    }\n",
       "\n",
       "    .dataframe tbody tr th {\n",
       "        vertical-align: top;\n",
       "    }\n",
       "\n",
       "    .dataframe thead th {\n",
       "        text-align: right;\n",
       "    }\n",
       "</style>\n",
       "<table border=\"1\" class=\"dataframe\">\n",
       "  <thead>\n",
       "    <tr style=\"text-align: right;\">\n",
       "      <th></th>\n",
       "      <th>Open</th>\n",
       "      <th>High</th>\n",
       "      <th>Low</th>\n",
       "      <th>Close</th>\n",
       "      <th>Close_chng_1</th>\n",
       "      <th>Close_chng_2</th>\n",
       "      <th>Close_chng_3</th>\n",
       "      <th>Close_chng_4</th>\n",
       "      <th>Close_chng_5</th>\n",
       "      <th>Close_chng_6</th>\n",
       "      <th>Close_chng_7</th>\n",
       "      <th>Close_chng_8</th>\n",
       "      <th>Close_chng_9</th>\n",
       "      <th>Close_chng_10</th>\n",
       "      <th>Close_chng_11</th>\n",
       "      <th>Close_chng_12</th>\n",
       "      <th>Close_chng_13</th>\n",
       "      <th>Close_chng_14</th>\n",
       "    </tr>\n",
       "    <tr>\n",
       "      <th>Datetime</th>\n",
       "      <th></th>\n",
       "      <th></th>\n",
       "      <th></th>\n",
       "      <th></th>\n",
       "      <th></th>\n",
       "      <th></th>\n",
       "      <th></th>\n",
       "      <th></th>\n",
       "      <th></th>\n",
       "      <th></th>\n",
       "      <th></th>\n",
       "      <th></th>\n",
       "      <th></th>\n",
       "      <th></th>\n",
       "      <th></th>\n",
       "      <th></th>\n",
       "      <th></th>\n",
       "      <th></th>\n",
       "    </tr>\n",
       "  </thead>\n",
       "  <tbody>\n",
       "    <tr>\n",
       "      <th>2010-09-02 15:00:00</th>\n",
       "      <td>80.87</td>\n",
       "      <td>81.00</td>\n",
       "      <td>80.12</td>\n",
       "      <td>80.40</td>\n",
       "      <td>-0.005566</td>\n",
       "      <td>-0.010340</td>\n",
       "      <td>-0.002853</td>\n",
       "      <td>0.002744</td>\n",
       "      <td>0.001121</td>\n",
       "      <td>-0.000249</td>\n",
       "      <td>0.019270</td>\n",
       "      <td>0.016563</td>\n",
       "      <td>0.018882</td>\n",
       "      <td>0.019528</td>\n",
       "      <td>0.019658</td>\n",
       "      <td>0.019270</td>\n",
       "      <td>0.030769</td>\n",
       "      <td>0.030241</td>\n",
       "    </tr>\n",
       "    <tr>\n",
       "      <th>2010-09-02 16:00:00</th>\n",
       "      <td>80.40</td>\n",
       "      <td>81.18</td>\n",
       "      <td>80.20</td>\n",
       "      <td>80.83</td>\n",
       "      <td>0.005348</td>\n",
       "      <td>-0.000247</td>\n",
       "      <td>-0.005047</td>\n",
       "      <td>0.002480</td>\n",
       "      <td>0.008107</td>\n",
       "      <td>0.006475</td>\n",
       "      <td>0.005098</td>\n",
       "      <td>0.024721</td>\n",
       "      <td>0.022000</td>\n",
       "      <td>0.024332</td>\n",
       "      <td>0.024981</td>\n",
       "      <td>0.025111</td>\n",
       "      <td>0.024721</td>\n",
       "      <td>0.036282</td>\n",
       "    </tr>\n",
       "    <tr>\n",
       "      <th>2010-09-02 17:00:00</th>\n",
       "      <td>80.83</td>\n",
       "      <td>80.96</td>\n",
       "      <td>80.51</td>\n",
       "      <td>80.85</td>\n",
       "      <td>0.000247</td>\n",
       "      <td>0.005597</td>\n",
       "      <td>0.000000</td>\n",
       "      <td>-0.004801</td>\n",
       "      <td>0.002729</td>\n",
       "      <td>0.008356</td>\n",
       "      <td>0.006724</td>\n",
       "      <td>0.005347</td>\n",
       "      <td>0.024975</td>\n",
       "      <td>0.022253</td>\n",
       "      <td>0.024585</td>\n",
       "      <td>0.025235</td>\n",
       "      <td>0.025365</td>\n",
       "      <td>0.024975</td>\n",
       "    </tr>\n",
       "    <tr>\n",
       "      <th>2010-09-02 18:00:00</th>\n",
       "      <td>80.85</td>\n",
       "      <td>81.17</td>\n",
       "      <td>80.14</td>\n",
       "      <td>80.63</td>\n",
       "      <td>-0.002721</td>\n",
       "      <td>-0.002474</td>\n",
       "      <td>0.002861</td>\n",
       "      <td>-0.002721</td>\n",
       "      <td>-0.007509</td>\n",
       "      <td>0.000000</td>\n",
       "      <td>0.005612</td>\n",
       "      <td>0.003985</td>\n",
       "      <td>0.002611</td>\n",
       "      <td>0.022186</td>\n",
       "      <td>0.019471</td>\n",
       "      <td>0.021797</td>\n",
       "      <td>0.022445</td>\n",
       "      <td>0.022575</td>\n",
       "    </tr>\n",
       "    <tr>\n",
       "      <th>2010-09-03 10:00:00</th>\n",
       "      <td>80.70</td>\n",
       "      <td>80.79</td>\n",
       "      <td>80.27</td>\n",
       "      <td>80.77</td>\n",
       "      <td>0.001736</td>\n",
       "      <td>-0.000989</td>\n",
       "      <td>-0.000742</td>\n",
       "      <td>0.004602</td>\n",
       "      <td>-0.000989</td>\n",
       "      <td>-0.005785</td>\n",
       "      <td>0.001736</td>\n",
       "      <td>0.007358</td>\n",
       "      <td>0.005728</td>\n",
       "      <td>0.004352</td>\n",
       "      <td>0.023960</td>\n",
       "      <td>0.021242</td>\n",
       "      <td>0.023571</td>\n",
       "      <td>0.024220</td>\n",
       "    </tr>\n",
       "  </tbody>\n",
       "</table>\n",
       "</div>"
      ],
      "text/plain": [
       "                      Open   High    Low  Close  Close_chng_1  Close_chng_2  \\\n",
       "Datetime                                                                      \n",
       "2010-09-02 15:00:00  80.87  81.00  80.12  80.40     -0.005566     -0.010340   \n",
       "2010-09-02 16:00:00  80.40  81.18  80.20  80.83      0.005348     -0.000247   \n",
       "2010-09-02 17:00:00  80.83  80.96  80.51  80.85      0.000247      0.005597   \n",
       "2010-09-02 18:00:00  80.85  81.17  80.14  80.63     -0.002721     -0.002474   \n",
       "2010-09-03 10:00:00  80.70  80.79  80.27  80.77      0.001736     -0.000989   \n",
       "\n",
       "                     Close_chng_3  Close_chng_4  Close_chng_5  Close_chng_6  \\\n",
       "Datetime                                                                      \n",
       "2010-09-02 15:00:00     -0.002853      0.002744      0.001121     -0.000249   \n",
       "2010-09-02 16:00:00     -0.005047      0.002480      0.008107      0.006475   \n",
       "2010-09-02 17:00:00      0.000000     -0.004801      0.002729      0.008356   \n",
       "2010-09-02 18:00:00      0.002861     -0.002721     -0.007509      0.000000   \n",
       "2010-09-03 10:00:00     -0.000742      0.004602     -0.000989     -0.005785   \n",
       "\n",
       "                     Close_chng_7  Close_chng_8  Close_chng_9  Close_chng_10  \\\n",
       "Datetime                                                                       \n",
       "2010-09-02 15:00:00      0.019270      0.016563      0.018882       0.019528   \n",
       "2010-09-02 16:00:00      0.005098      0.024721      0.022000       0.024332   \n",
       "2010-09-02 17:00:00      0.006724      0.005347      0.024975       0.022253   \n",
       "2010-09-02 18:00:00      0.005612      0.003985      0.002611       0.022186   \n",
       "2010-09-03 10:00:00      0.001736      0.007358      0.005728       0.004352   \n",
       "\n",
       "                     Close_chng_11  Close_chng_12  Close_chng_13  \\\n",
       "Datetime                                                           \n",
       "2010-09-02 15:00:00       0.019658       0.019270       0.030769   \n",
       "2010-09-02 16:00:00       0.024981       0.025111       0.024721   \n",
       "2010-09-02 17:00:00       0.024585       0.025235       0.025365   \n",
       "2010-09-02 18:00:00       0.019471       0.021797       0.022445   \n",
       "2010-09-03 10:00:00       0.023960       0.021242       0.023571   \n",
       "\n",
       "                     Close_chng_14  \n",
       "Datetime                            \n",
       "2010-09-02 15:00:00       0.030241  \n",
       "2010-09-02 16:00:00       0.036282  \n",
       "2010-09-02 17:00:00       0.024975  \n",
       "2010-09-02 18:00:00       0.022575  \n",
       "2010-09-03 10:00:00       0.024220  "
      ]
     },
     "execution_count": 10,
     "metadata": {},
     "output_type": "execute_result"
    }
   ],
   "source": [
    "# Удаление строк с неполными данными\n",
    "data.dropna(inplace=True)\n",
    "\n",
    "# Проверка результата\n",
    "print(data.shape)\n",
    "data[:5]"
   ]
  },
  {
   "cell_type": "markdown",
   "metadata": {
    "id": "0YDas5RBAV91"
   },
   "source": [
    "Возможны два варианта формирования выборки: подавать данные как есть, либо заменить значения на 0, где значение отрицательное и на 1, где положительное.\n"
   ]
  },
  {
   "cell_type": "code",
   "execution_count": 11,
   "metadata": {
    "colab": {
     "base_uri": "https://localhost:8080/",
     "height": 284
    },
    "id": "foe0zdJmrGMx",
    "outputId": "c6cf0f41-ef7d-4f09-fa9d-55e4277c15ac"
   },
   "outputs": [
    {
     "name": "stdout",
     "output_type": "stream",
     "text": [
      "(18804, 32)\n"
     ]
    },
    {
     "data": {
      "application/vnd.microsoft.datawrangler.viewer.v0+json": {
       "columns": [
        {
         "name": "Datetime",
         "rawType": "datetime64[ns]",
         "type": "datetime"
        },
        {
         "name": "Open",
         "rawType": "float64",
         "type": "float"
        },
        {
         "name": "High",
         "rawType": "float64",
         "type": "float"
        },
        {
         "name": "Low",
         "rawType": "float64",
         "type": "float"
        },
        {
         "name": "Close",
         "rawType": "float64",
         "type": "float"
        },
        {
         "name": "Close_chng_1",
         "rawType": "float64",
         "type": "float"
        },
        {
         "name": "Close_chng_2",
         "rawType": "float64",
         "type": "float"
        },
        {
         "name": "Close_chng_3",
         "rawType": "float64",
         "type": "float"
        },
        {
         "name": "Close_chng_4",
         "rawType": "float64",
         "type": "float"
        },
        {
         "name": "Close_chng_5",
         "rawType": "float64",
         "type": "float"
        },
        {
         "name": "Close_chng_6",
         "rawType": "float64",
         "type": "float"
        },
        {
         "name": "Close_chng_7",
         "rawType": "float64",
         "type": "float"
        },
        {
         "name": "Close_chng_8",
         "rawType": "float64",
         "type": "float"
        },
        {
         "name": "Close_chng_9",
         "rawType": "float64",
         "type": "float"
        },
        {
         "name": "Close_chng_10",
         "rawType": "float64",
         "type": "float"
        },
        {
         "name": "Close_chng_11",
         "rawType": "float64",
         "type": "float"
        },
        {
         "name": "Close_chng_12",
         "rawType": "float64",
         "type": "float"
        },
        {
         "name": "Close_chng_13",
         "rawType": "float64",
         "type": "float"
        },
        {
         "name": "Close_chng_14",
         "rawType": "float64",
         "type": "float"
        },
        {
         "name": "Y_1",
         "rawType": "float64",
         "type": "float"
        },
        {
         "name": "Y_2",
         "rawType": "float64",
         "type": "float"
        },
        {
         "name": "Y_3",
         "rawType": "float64",
         "type": "float"
        },
        {
         "name": "Y_4",
         "rawType": "float64",
         "type": "float"
        },
        {
         "name": "Y_5",
         "rawType": "float64",
         "type": "float"
        },
        {
         "name": "Y_6",
         "rawType": "float64",
         "type": "float"
        },
        {
         "name": "Y_7",
         "rawType": "float64",
         "type": "float"
        },
        {
         "name": "Y_8",
         "rawType": "float64",
         "type": "float"
        },
        {
         "name": "Y_9",
         "rawType": "float64",
         "type": "float"
        },
        {
         "name": "Y_10",
         "rawType": "float64",
         "type": "float"
        },
        {
         "name": "Y_11",
         "rawType": "float64",
         "type": "float"
        },
        {
         "name": "Y_12",
         "rawType": "float64",
         "type": "float"
        },
        {
         "name": "Y_13",
         "rawType": "float64",
         "type": "float"
        },
        {
         "name": "Y_14",
         "rawType": "float64",
         "type": "float"
        }
       ],
       "ref": "de42fac5-209c-4087-8f98-d8511c1ee3fa",
       "rows": [
        [
         "2010-09-02 15:00:00",
         "80.87",
         "81.0",
         "80.12",
         "80.4",
         "-0.0055658627087197265",
         "-0.010339734121122435",
         "-0.002852536276819917",
         "0.0027438263906209848",
         "0.0011206574523721091",
         "-0.00024869435463814593",
         "0.019269776876267963",
         "0.016563408774813437",
         "0.018882270941579238",
         "0.019528277960943585",
         "0.019657577679137672",
         "0.019269776876267963",
         "0.030769230769230882",
         "0.030240902101486444",
         "0.0",
         "0.0",
         "0.0",
         "1.0",
         "1.0",
         "0.0",
         "1.0",
         "1.0",
         "1.0",
         "1.0",
         "1.0",
         "1.0",
         "1.0",
         "1.0"
        ],
        [
         "2010-09-02 16:00:00",
         "80.4",
         "81.18",
         "80.2",
         "80.83",
         "0.00534825870646749",
         "-0.00024737167594302",
         "-0.005046774987690794",
         "0.002480466327669628",
         "0.008106759790471374",
         "0.006474909724816236",
         "0.005098234270082047",
         "0.024721095334685694",
         "0.022000252876469784",
         "0.024331516918007834",
         "0.024980978950037924",
         "0.025110970196575932",
         "0.024721095334685694",
         "0.0362820512820512",
         "1.0",
         "0.0",
         "0.0",
         "1.0",
         "1.0",
         "1.0",
         "1.0",
         "1.0",
         "1.0",
         "1.0",
         "1.0",
         "1.0",
         "1.0",
         "1.0"
        ],
        [
         "2010-09-02 17:00:00",
         "80.83",
         "80.96",
         "80.51",
         "80.85",
         "0.0002474328838302231",
         "0.005597014925373012",
         "0.0",
         "-0.004800590841949837",
         "0.0027285129604366354",
         "0.008356198553254979",
         "0.006723944714232211",
         "0.005346928624720082",
         "0.024974645030426013",
         "0.022253129346314182",
         "0.024584970219237112",
         "0.025234592949530787",
         "0.025364616360177505",
         "0.024974645030426013",
         "1.0",
         "1.0",
         "0.0",
         "0.0",
         "1.0",
         "1.0",
         "1.0",
         "1.0",
         "1.0",
         "1.0",
         "1.0",
         "1.0",
         "1.0",
         "1.0"
        ],
        [
         "2010-09-02 18:00:00",
         "80.85",
         "81.17",
         "80.14",
         "80.63",
         "-0.0027210884353741083",
         "-0.002474328838302675",
         "0.0028606965174127197",
         "-0.0027210884353741083",
         "-0.007508616445100924",
         "0.0",
         "0.005612372162633994",
         "0.003984559830656043",
         "0.002611290723700588",
         "0.022185598377281845",
         "0.01947148817802491",
         "0.021796983905715273",
         "0.02244483895511018",
         "0.022574508560557982",
         "0.0",
         "0.0",
         "1.0",
         "0.0",
         "0.0",
         "0.0",
         "1.0",
         "1.0",
         "1.0",
         "1.0",
         "1.0",
         "1.0",
         "1.0",
         "1.0"
        ],
        [
         "2010-09-03 10:00:00",
         "80.7",
         "80.79",
         "80.27",
         "80.77",
         "0.0017363264293688285",
         "-0.000989486703772413",
         "-0.0007422986514907803",
         "0.004601990049751148",
         "-0.000989486703772413",
         "-0.005785327424913778",
         "0.0017363264293688285",
         "0.0073584435021201156",
         "0.005727804756568311",
         "0.004352151206167498",
         "0.023960446247464517",
         "0.021241623466936366",
         "0.02357115701432",
         "0.02422013695155978",
         "1.0",
         "0.0",
         "0.0",
         "1.0",
         "0.0",
         "0.0",
         "1.0",
         "1.0",
         "1.0",
         "1.0",
         "1.0",
         "1.0",
         "1.0",
         "1.0"
        ]
       ],
       "shape": {
        "columns": 32,
        "rows": 5
       }
      },
      "text/html": [
       "<div>\n",
       "<style scoped>\n",
       "    .dataframe tbody tr th:only-of-type {\n",
       "        vertical-align: middle;\n",
       "    }\n",
       "\n",
       "    .dataframe tbody tr th {\n",
       "        vertical-align: top;\n",
       "    }\n",
       "\n",
       "    .dataframe thead th {\n",
       "        text-align: right;\n",
       "    }\n",
       "</style>\n",
       "<table border=\"1\" class=\"dataframe\">\n",
       "  <thead>\n",
       "    <tr style=\"text-align: right;\">\n",
       "      <th></th>\n",
       "      <th>Open</th>\n",
       "      <th>High</th>\n",
       "      <th>Low</th>\n",
       "      <th>Close</th>\n",
       "      <th>Close_chng_1</th>\n",
       "      <th>Close_chng_2</th>\n",
       "      <th>Close_chng_3</th>\n",
       "      <th>Close_chng_4</th>\n",
       "      <th>Close_chng_5</th>\n",
       "      <th>Close_chng_6</th>\n",
       "      <th>...</th>\n",
       "      <th>Y_5</th>\n",
       "      <th>Y_6</th>\n",
       "      <th>Y_7</th>\n",
       "      <th>Y_8</th>\n",
       "      <th>Y_9</th>\n",
       "      <th>Y_10</th>\n",
       "      <th>Y_11</th>\n",
       "      <th>Y_12</th>\n",
       "      <th>Y_13</th>\n",
       "      <th>Y_14</th>\n",
       "    </tr>\n",
       "    <tr>\n",
       "      <th>Datetime</th>\n",
       "      <th></th>\n",
       "      <th></th>\n",
       "      <th></th>\n",
       "      <th></th>\n",
       "      <th></th>\n",
       "      <th></th>\n",
       "      <th></th>\n",
       "      <th></th>\n",
       "      <th></th>\n",
       "      <th></th>\n",
       "      <th></th>\n",
       "      <th></th>\n",
       "      <th></th>\n",
       "      <th></th>\n",
       "      <th></th>\n",
       "      <th></th>\n",
       "      <th></th>\n",
       "      <th></th>\n",
       "      <th></th>\n",
       "      <th></th>\n",
       "      <th></th>\n",
       "    </tr>\n",
       "  </thead>\n",
       "  <tbody>\n",
       "    <tr>\n",
       "      <th>2010-09-02 15:00:00</th>\n",
       "      <td>80.87</td>\n",
       "      <td>81.00</td>\n",
       "      <td>80.12</td>\n",
       "      <td>80.40</td>\n",
       "      <td>-0.005566</td>\n",
       "      <td>-0.010340</td>\n",
       "      <td>-0.002853</td>\n",
       "      <td>0.002744</td>\n",
       "      <td>0.001121</td>\n",
       "      <td>-0.000249</td>\n",
       "      <td>...</td>\n",
       "      <td>1.0</td>\n",
       "      <td>0.0</td>\n",
       "      <td>1.0</td>\n",
       "      <td>1.0</td>\n",
       "      <td>1.0</td>\n",
       "      <td>1.0</td>\n",
       "      <td>1.0</td>\n",
       "      <td>1.0</td>\n",
       "      <td>1.0</td>\n",
       "      <td>1.0</td>\n",
       "    </tr>\n",
       "    <tr>\n",
       "      <th>2010-09-02 16:00:00</th>\n",
       "      <td>80.40</td>\n",
       "      <td>81.18</td>\n",
       "      <td>80.20</td>\n",
       "      <td>80.83</td>\n",
       "      <td>0.005348</td>\n",
       "      <td>-0.000247</td>\n",
       "      <td>-0.005047</td>\n",
       "      <td>0.002480</td>\n",
       "      <td>0.008107</td>\n",
       "      <td>0.006475</td>\n",
       "      <td>...</td>\n",
       "      <td>1.0</td>\n",
       "      <td>1.0</td>\n",
       "      <td>1.0</td>\n",
       "      <td>1.0</td>\n",
       "      <td>1.0</td>\n",
       "      <td>1.0</td>\n",
       "      <td>1.0</td>\n",
       "      <td>1.0</td>\n",
       "      <td>1.0</td>\n",
       "      <td>1.0</td>\n",
       "    </tr>\n",
       "    <tr>\n",
       "      <th>2010-09-02 17:00:00</th>\n",
       "      <td>80.83</td>\n",
       "      <td>80.96</td>\n",
       "      <td>80.51</td>\n",
       "      <td>80.85</td>\n",
       "      <td>0.000247</td>\n",
       "      <td>0.005597</td>\n",
       "      <td>0.000000</td>\n",
       "      <td>-0.004801</td>\n",
       "      <td>0.002729</td>\n",
       "      <td>0.008356</td>\n",
       "      <td>...</td>\n",
       "      <td>1.0</td>\n",
       "      <td>1.0</td>\n",
       "      <td>1.0</td>\n",
       "      <td>1.0</td>\n",
       "      <td>1.0</td>\n",
       "      <td>1.0</td>\n",
       "      <td>1.0</td>\n",
       "      <td>1.0</td>\n",
       "      <td>1.0</td>\n",
       "      <td>1.0</td>\n",
       "    </tr>\n",
       "    <tr>\n",
       "      <th>2010-09-02 18:00:00</th>\n",
       "      <td>80.85</td>\n",
       "      <td>81.17</td>\n",
       "      <td>80.14</td>\n",
       "      <td>80.63</td>\n",
       "      <td>-0.002721</td>\n",
       "      <td>-0.002474</td>\n",
       "      <td>0.002861</td>\n",
       "      <td>-0.002721</td>\n",
       "      <td>-0.007509</td>\n",
       "      <td>0.000000</td>\n",
       "      <td>...</td>\n",
       "      <td>0.0</td>\n",
       "      <td>0.0</td>\n",
       "      <td>1.0</td>\n",
       "      <td>1.0</td>\n",
       "      <td>1.0</td>\n",
       "      <td>1.0</td>\n",
       "      <td>1.0</td>\n",
       "      <td>1.0</td>\n",
       "      <td>1.0</td>\n",
       "      <td>1.0</td>\n",
       "    </tr>\n",
       "    <tr>\n",
       "      <th>2010-09-03 10:00:00</th>\n",
       "      <td>80.70</td>\n",
       "      <td>80.79</td>\n",
       "      <td>80.27</td>\n",
       "      <td>80.77</td>\n",
       "      <td>0.001736</td>\n",
       "      <td>-0.000989</td>\n",
       "      <td>-0.000742</td>\n",
       "      <td>0.004602</td>\n",
       "      <td>-0.000989</td>\n",
       "      <td>-0.005785</td>\n",
       "      <td>...</td>\n",
       "      <td>0.0</td>\n",
       "      <td>0.0</td>\n",
       "      <td>1.0</td>\n",
       "      <td>1.0</td>\n",
       "      <td>1.0</td>\n",
       "      <td>1.0</td>\n",
       "      <td>1.0</td>\n",
       "      <td>1.0</td>\n",
       "      <td>1.0</td>\n",
       "      <td>1.0</td>\n",
       "    </tr>\n",
       "  </tbody>\n",
       "</table>\n",
       "<p>5 rows × 32 columns</p>\n",
       "</div>"
      ],
      "text/plain": [
       "                      Open   High    Low  Close  Close_chng_1  Close_chng_2  \\\n",
       "Datetime                                                                      \n",
       "2010-09-02 15:00:00  80.87  81.00  80.12  80.40     -0.005566     -0.010340   \n",
       "2010-09-02 16:00:00  80.40  81.18  80.20  80.83      0.005348     -0.000247   \n",
       "2010-09-02 17:00:00  80.83  80.96  80.51  80.85      0.000247      0.005597   \n",
       "2010-09-02 18:00:00  80.85  81.17  80.14  80.63     -0.002721     -0.002474   \n",
       "2010-09-03 10:00:00  80.70  80.79  80.27  80.77      0.001736     -0.000989   \n",
       "\n",
       "                     Close_chng_3  Close_chng_4  Close_chng_5  Close_chng_6  \\\n",
       "Datetime                                                                      \n",
       "2010-09-02 15:00:00     -0.002853      0.002744      0.001121     -0.000249   \n",
       "2010-09-02 16:00:00     -0.005047      0.002480      0.008107      0.006475   \n",
       "2010-09-02 17:00:00      0.000000     -0.004801      0.002729      0.008356   \n",
       "2010-09-02 18:00:00      0.002861     -0.002721     -0.007509      0.000000   \n",
       "2010-09-03 10:00:00     -0.000742      0.004602     -0.000989     -0.005785   \n",
       "\n",
       "                     ...  Y_5  Y_6  Y_7  Y_8  Y_9  Y_10  Y_11  Y_12  Y_13  \\\n",
       "Datetime             ...                                                    \n",
       "2010-09-02 15:00:00  ...  1.0  0.0  1.0  1.0  1.0   1.0   1.0   1.0   1.0   \n",
       "2010-09-02 16:00:00  ...  1.0  1.0  1.0  1.0  1.0   1.0   1.0   1.0   1.0   \n",
       "2010-09-02 17:00:00  ...  1.0  1.0  1.0  1.0  1.0   1.0   1.0   1.0   1.0   \n",
       "2010-09-02 18:00:00  ...  0.0  0.0  1.0  1.0  1.0   1.0   1.0   1.0   1.0   \n",
       "2010-09-03 10:00:00  ...  0.0  0.0  1.0  1.0  1.0   1.0   1.0   1.0   1.0   \n",
       "\n",
       "                     Y_14  \n",
       "Datetime                   \n",
       "2010-09-02 15:00:00   1.0  \n",
       "2010-09-02 16:00:00   1.0  \n",
       "2010-09-02 17:00:00   1.0  \n",
       "2010-09-02 18:00:00   1.0  \n",
       "2010-09-03 10:00:00   1.0  \n",
       "\n",
       "[5 rows x 32 columns]"
      ]
     },
     "execution_count": 11,
     "metadata": {},
     "output_type": "execute_result"
    }
   ],
   "source": [
    "# Вычисление индикаторов направления тренда\n",
    "for i in range(1, INDICATOR_DEPTH + 1):\n",
    "    indicator_change = f'Close_chng_{i}'\n",
    "    indicator_trend = f'Y_{i}'\n",
    "    # Заполнение столбца индикатора тренда нулями (нисходящий/боковой тренд)\n",
    "    data[indicator_trend] = 0.\n",
    "    # Если индикатор изменения периода на i шагов положителен, то тренд восходящий\n",
    "    data.loc[data[indicator_change] > 0. , indicator_trend] = 1.\n",
    "\n",
    "# Проверка результата\n",
    "print(data.shape)\n",
    "data[:5]"
   ]
  },
  {
   "cell_type": "markdown",
   "metadata": {
    "id": "fiJSSWW8SUu2"
   },
   "source": [
    "#### **Формирование входных данных**"
   ]
  },
  {
   "cell_type": "code",
   "execution_count": 12,
   "metadata": {
    "colab": {
     "base_uri": "https://localhost:8080/"
    },
    "id": "7OJaLHQqr3MZ",
    "outputId": "2c4b6696-93e6-4cad-d5b6-ee37ade8d05f"
   },
   "outputs": [
    {
     "name": "stdout",
     "output_type": "stream",
     "text": [
      "(18804, 15) <class 'numpy.ndarray'>\n"
     ]
    }
   ],
   "source": [
    "x_col = [COL_CLOSE] + [f'Y_{i}' for i in range(1, INDICATOR_DEPTH + 1)]\n",
    "x_data = data[x_col].values\n",
    "\n",
    "# Проверка результата\n",
    "print(x_data.shape, type(x_data))"
   ]
  },
  {
   "cell_type": "markdown",
   "metadata": {
    "id": "Y5kv8Of0rQaP"
   },
   "source": [
    "#### **Формирование выходных данных**"
   ]
  },
  {
   "cell_type": "code",
   "execution_count": 13,
   "metadata": {
    "colab": {
     "base_uri": "https://localhost:8080/"
    },
    "id": "ngPuqQJQrOHy",
    "outputId": "962def94-fe0b-4cd0-f161-8cb758717926"
   },
   "outputs": [
    {
     "data": {
      "application/vnd.microsoft.datawrangler.viewer.v0+json": {
       "columns": [
        {
         "name": "Datetime",
         "rawType": "datetime64[ns]",
         "type": "datetime"
        },
        {
         "name": "Y_14",
         "rawType": "float64",
         "type": "float"
        }
       ],
       "ref": "7b1a5830-9371-4e38-8b30-b156ee2504c1",
       "rows": [
        [
         "2010-09-02 15:00:00",
         "1.0"
        ],
        [
         "2010-09-02 16:00:00",
         "1.0"
        ],
        [
         "2010-09-02 17:00:00",
         "1.0"
        ],
        [
         "2010-09-02 18:00:00",
         "1.0"
        ],
        [
         "2010-09-03 10:00:00",
         "1.0"
        ]
       ],
       "shape": {
        "columns": 1,
        "rows": 5
       }
      },
      "text/plain": [
       "Datetime\n",
       "2010-09-02 15:00:00    1.0\n",
       "2010-09-02 16:00:00    1.0\n",
       "2010-09-02 17:00:00    1.0\n",
       "2010-09-02 18:00:00    1.0\n",
       "2010-09-03 10:00:00    1.0\n",
       "Name: Y_14, dtype: float64"
      ]
     },
     "execution_count": 13,
     "metadata": {},
     "output_type": "execute_result"
    }
   ],
   "source": [
    "indicator_name = f'Y_{INDICATOR_DEPTH}'\n",
    "y_class = data[indicator_name]\n",
    "\n",
    "# Проверка результата\n",
    "y_class[:5]"
   ]
  },
  {
   "cell_type": "code",
   "execution_count": 14,
   "metadata": {
    "colab": {
     "base_uri": "https://localhost:8080/"
    },
    "id": "qEdHvwGurUZs",
    "outputId": "ec6792e4-47ae-41b1-a7e5-a7308a2a8ac2"
   },
   "outputs": [
    {
     "name": "stdout",
     "output_type": "stream",
     "text": [
      "(18804, 2)\n"
     ]
    },
    {
     "data": {
      "text/plain": [
       "array([[0., 1.],\n",
       "       [0., 1.],\n",
       "       [0., 1.],\n",
       "       [0., 1.],\n",
       "       [0., 1.]])"
      ]
     },
     "execution_count": 14,
     "metadata": {},
     "output_type": "execute_result"
    }
   ],
   "source": [
    "# Кодирование признака класса в one hot encoding\n",
    "y_data = to_categorical(y_class)\n",
    "\n",
    "# Проверка результата\n",
    "print(y_data.shape)\n",
    "y_data[:5]"
   ]
  },
  {
   "cell_type": "markdown",
   "metadata": {
    "id": "VZdTiVzjr6J0"
   },
   "source": [
    "#### **Разделение данных на обучающую и проверочную выборки**"
   ]
  },
  {
   "cell_type": "code",
   "execution_count": 15,
   "metadata": {
    "colab": {
     "base_uri": "https://localhost:8080/"
    },
    "id": "jCUv_OwKsCTV",
    "outputId": "dce5f455-37c7-4226-c3e9-5eead64128a0"
   },
   "outputs": [
    {
     "name": "stdout",
     "output_type": "stream",
     "text": [
      "train_data:  (18185, 15) (18185, 2) \n",
      "test_data:   (600, 15) (600, 2) \n",
      "Общая длина: 18785\n"
     ]
    }
   ],
   "source": [
    "x_train_data, y_train_data = x_data[:-TEST_LEN-SEQ_LEN], y_data[:-TEST_LEN-SEQ_LEN]\n",
    "x_test_data, y_test_data = x_data[-TEST_LEN:], y_data[-TEST_LEN:]\n",
    "\n",
    "# Проверка результата\n",
    "print('train_data: ', x_train_data.shape, y_train_data.shape,\n",
    "      '\\ntest_data:  ', x_test_data.shape, y_test_data.shape,\n",
    "      '\\nОбщая длина:', x_train_data.shape[0] + x_test_data.shape[0])"
   ]
  },
  {
   "cell_type": "markdown",
   "metadata": {
    "id": "ZMxrv0rgdxOZ"
   },
   "source": [
    "#### **Масштабирование входных данных**"
   ]
  },
  {
   "cell_type": "code",
   "execution_count": 16,
   "metadata": {
    "colab": {
     "base_uri": "https://localhost:8080/"
    },
    "id": "ak7BlgYzsEI8",
    "outputId": "fbba1731-96ba-461e-f91a-bc519c768c2f"
   },
   "outputs": [
    {
     "name": "stdout",
     "output_type": "stream",
     "text": [
      "(18185, 15) (600, 15) <class 'numpy.ndarray'>\n"
     ]
    },
    {
     "data": {
      "text/plain": [
       "array([[ 1.40650193,  1.00247764,  0.99271283,  0.99522723,  0.99053149,\n",
       "         0.98401555,  0.9820689 ,  0.97678842, -1.02331264, -1.02353787,\n",
       "        -1.02286232,  0.97904815,  0.97431919, -1.02952561, -1.02794036]])"
      ]
     },
     "execution_count": 16,
     "metadata": {},
     "output_type": "execute_result"
    }
   ],
   "source": [
    "x_scaler = StandardScaler()\n",
    "x_scaler.fit(x_train_data)\n",
    "x_train_data = x_scaler.transform(x_train_data)\n",
    "x_test_data = x_scaler.transform(x_test_data)\n",
    "\n",
    "# Проверка результата\n",
    "print(x_train_data.shape, x_test_data.shape, type(x_train_data))\n",
    "x_test_data[-1:]"
   ]
  },
  {
   "cell_type": "markdown",
   "metadata": {
    "id": "uNV735KfsLi9"
   },
   "source": [
    "#### **Формирование выборок для нейросети**"
   ]
  },
  {
   "cell_type": "code",
   "execution_count": 17,
   "metadata": {
    "id": "9qV-Wl-esIky"
   },
   "outputs": [],
   "source": [
    "# Функция разделения набора данных на выборки для обучения нейросети\n",
    "# x_data - набор входных данных\n",
    "# y_data - набор выходных данных\n",
    "# seq_len - длина серии (подпоследовательности) входных данных для анализа\n",
    "# predict_lag - количество шагов в будущее для предсказания\n",
    "def split_sequence(x_data, y_data, seq_len, predict_lag):\n",
    "    # Определение максимального индекса начала подпоследовательности\n",
    "    x_len = x_data.shape[0] - seq_len - (predict_lag - 1)\n",
    "    # Формирование подпоследовательностей входных данных\n",
    "    x = [x_data[i:i + seq_len] for i in range(x_len)]\n",
    "    # Формирование меток выходных данных,\n",
    "    # отстоящих на predict_lag шагов после конца подпоследовательности\n",
    "    y = [y_data[i + seq_len + predict_lag - 1] for i in range(x_len)]\n",
    "    # Возврат результатов в виде массивов numpy\n",
    "    return np.array(x), np.array(y)"
   ]
  },
  {
   "cell_type": "code",
   "execution_count": 18,
   "metadata": {
    "colab": {
     "base_uri": "https://localhost:8080/"
    },
    "id": "C-WVvK98sTJv",
    "outputId": "c08b2e5e-b22a-49b7-b9cf-c780d1525190"
   },
   "outputs": [
    {
     "name": "stdout",
     "output_type": "stream",
     "text": [
      "Массивы x_train и y_train:\t (18166, 19, 15) (18166, 2)\n",
      "Массивы x_test и y_test:\t (581, 19, 15) (581, 2)\n"
     ]
    }
   ],
   "source": [
    "# Формирование выборок для обучения нейросети\n",
    "x_train, y_train = split_sequence(x_train_data, y_train_data, SEQ_LEN, PREDICT_LAG)\n",
    "x_test, y_test = split_sequence(x_test_data, y_test_data, SEQ_LEN, PREDICT_LAG)\n",
    "\n",
    "# Проверка результата\n",
    "print('Массивы x_train и y_train:\\t', x_train.shape, y_train.shape)\n",
    "print('Массивы x_test и y_test:\\t', x_test.shape, y_test.shape)"
   ]
  },
  {
   "cell_type": "markdown",
   "metadata": {
    "id": "55emZYtd3OuV"
   },
   "source": [
    "## Сервисные функции"
   ]
  },
  {
   "cell_type": "code",
   "execution_count": 19,
   "metadata": {
    "id": "opDRhySY3NTB"
   },
   "outputs": [],
   "source": [
    "# Функция вывода результатов оценки модели на заданных данных\n",
    "def eval_model(model, x, y_true,\n",
    "               class_labels=[],\n",
    "               cm_round=3,\n",
    "               title='',\n",
    "               figsize=(8, 8)):\n",
    "    # Вычисление предсказания сети\n",
    "    y_pred = model.predict(x)\n",
    "    # Построение матрицы ошибок\n",
    "    cm = confusion_matrix(np.argmax(y_true, axis=1),\n",
    "                          np.argmax(y_pred, axis=1),\n",
    "                          normalize='true')\n",
    "    # Округление значений матрицы ошибок\n",
    "    cm = np.around(cm, cm_round)\n",
    "\n",
    "    # Задание размера шрифта по умолчанию для текста в клетках матрицы\n",
    "    old_font_size = rcParams['font.size']\n",
    "    rcParams['font.size'] = 30\n",
    "\n",
    "    # Отрисовка матрицы ошибок\n",
    "    fig, ax = plt.subplots(figsize=figsize)\n",
    "    ax.set_title(f'Нейросеть {title}: матрица ошибок нормализованная', fontsize=18)\n",
    "    disp = ConfusionMatrixDisplay(confusion_matrix=cm, display_labels=class_labels)\n",
    "    disp.plot(ax=ax, cmap='cividis')\n",
    "    ax.images[-1].colorbar.remove()       # Стирание ненужной цветовой шкалы\n",
    "    plt.xticks(fontsize=12)\n",
    "    plt.xlabel('Предсказанные классы', fontsize=16)\n",
    "    plt.yticks(fontsize=12)\n",
    "    plt.ylabel('Верные классы', fontsize=16)\n",
    "    plt.show()\n",
    "\n",
    "    # Восстановление размера шрифта по умолчанию\n",
    "    rcParams['font.size'] = old_font_size\n",
    "\n",
    "\n",
    "# Функция обучения модели и отрисовки прогресса и оценки результатов\n",
    "# На входе - модель, генераторы обучающей и проверочной выборок\n",
    "# и список эпох в виде [(epochs1, opt1), (epochs2, opt2), ...].\n",
    "# Модель последовательно обучается в течение epochs1 эпох с оптимизатором opt1 и т.д.\n",
    "def train_eval_model(model, x_train, y_train, epoch_list,\n",
    "                     x_test, y_test, title=''):\n",
    "    # Отображение сводки модели\n",
    "    model.summary()\n",
    "\n",
    "    # Обучение модели в несколько фаз в соответствии со списком epoch_list\n",
    "    for epochs, opt in epoch_list:\n",
    "        # Компиляция модели\n",
    "        model.compile(loss='binary_crossentropy',\n",
    "                      metrics=['accuracy'],\n",
    "                      optimizer=opt)\n",
    "\n",
    "        # Фаза обучения модели\n",
    "        print(f'Обучение {epochs} эпох')\n",
    "        history = model.fit(x_train, y_train,\n",
    "                            epochs=epochs,\n",
    "                            validation_data=(x_test, y_test),\n",
    "                            verbose=1)\n",
    "\n",
    "\n",
    "        # Рисование графиков прошедшей фазы обучения\n",
    "        fig, (ax1, ax2) = plt.subplots(2, 1, figsize=(10, 6), sharex=True)\n",
    "        ax1.set_title(f'{title}: График прогресса обучения')\n",
    "        ax1.plot(history.history['loss'], label='Ошибка на обучающем наборе')\n",
    "        ax1.plot(history.history['val_loss'], label='Ошибка на проверочном наборе')\n",
    "        ax1.set_ylabel('Средняя ошибка')\n",
    "        ax1.legend()\n",
    "\n",
    "        ax2.plot(history.history['accuracy'], label='Точность на обучающем наборе')\n",
    "        ax2.plot(history.history['val_accuracy'], label='Точность на проверочном наборе')\n",
    "        ax2.set_ylabel('Точность классификации')\n",
    "        ax2.legend()\n",
    "\n",
    "        # Указание показывать только целые метки шкалы оси x\n",
    "        fig.gca().xaxis.get_major_locator().set_params(integer=True)\n",
    "        plt.xlabel('Эпоха обучения')\n",
    "        plt.show()\n",
    "\n",
    "        # Рисование графиков оценки результата работы модели после фазы обучения\n",
    "        eval_model(model, x_test, y_test, title=title)"
   ]
  },
  {
   "cell_type": "markdown",
   "metadata": {
    "id": "96ub2gj5so0Q"
   },
   "source": [
    "## Модель нейронной сети"
   ]
  },
  {
   "cell_type": "code",
   "execution_count": 20,
   "metadata": {
    "id": "PQvjXS9hsi6e"
   },
   "outputs": [
    {
     "name": "stderr",
     "output_type": "stream",
     "text": [
      "I0000 00:00:1747651685.623605   12191 gpu_device.cc:2022] Created device /job:localhost/replica:0/task:0/device:GPU:0 with 5206 MB memory:  -> device: 0, name: NVIDIA GeForce RTX 4060 Laptop GPU, pci bus id: 0000:01:00.0, compute capability: 8.9\n"
     ]
    }
   ],
   "source": [
    "# Входной слой\n",
    "input = Input(shape=x_train.shape[1:])\n",
    "# Преобразование в одномерный вектор\n",
    "x = Flatten()(input)\n",
    "# Повтор вектора несколько раз\n",
    "x = RepeatVector(4)(x)\n",
    "# Одномерная свертка\n",
    "x = Conv1D(SEQ_LEN * 2, 5, padding='same', activation='relu')(x)\n",
    "# Макспулинг и понижение размерности\n",
    "x = MaxPooling1D(pool_size=2)(x)\n",
    "# Преобразование в одномерный вектор\n",
    "x = Flatten()(x)\n",
    "# Повтор вектора несколько раз\n",
    "x = RepeatVector(4)(x)\n",
    "# Одномерная свертка\n",
    "x = Conv1D(SEQ_LEN, 5, padding='same', activation='relu')(x)\n",
    "# Макспулинг и понижение размерности\n",
    "x = MaxPooling1D(pool_size=2)(x)\n",
    "# Преобразование в одномерный вектор\n",
    "x = Flatten()(x)\n",
    "# Полносвязный слой\n",
    "x = Dense(SEQ_LEN * 100, activation='relu')(x)\n",
    "# Слой регуляризации\n",
    "x = Dropout(0.4)(x)\n",
    "# Финальный слой классификатора\n",
    "x = Dense(y_train.shape[1], activation='sigmoid')(x)\n",
    "\n",
    "# Сборка модели из входа и выхода\n",
    "model = Model(input, x)"
   ]
  },
  {
   "cell_type": "markdown",
   "metadata": {
    "id": "-OSnEXq2u2co"
   },
   "source": [
    "Слой RepeatVector() занимается построчным копированием вектора. Если вектор был 1,200, он превратит его в 4,200."
   ]
  },
  {
   "cell_type": "code",
   "execution_count": 21,
   "metadata": {
    "colab": {
     "base_uri": "https://localhost:8080/",
     "height": 1000
    },
    "id": "n9LQW3s5s63F",
    "outputId": "607c456c-7ccb-452d-b5f6-c82e1cf0fe37"
   },
   "outputs": [
    {
     "data": {
      "text/html": [
       "<pre style=\"white-space:pre;overflow-x:auto;line-height:normal;font-family:Menlo,'DejaVu Sans Mono',consolas,'Courier New',monospace\"><span style=\"font-weight: bold\">Model: \"functional\"</span>\n",
       "</pre>\n"
      ],
      "text/plain": [
       "\u001b[1mModel: \"functional\"\u001b[0m\n"
      ]
     },
     "metadata": {},
     "output_type": "display_data"
    },
    {
     "data": {
      "text/html": [
       "<pre style=\"white-space:pre;overflow-x:auto;line-height:normal;font-family:Menlo,'DejaVu Sans Mono',consolas,'Courier New',monospace\">┏━━━━━━━━━━━━━━━━━━━━━━━━━━━━━━━━━┳━━━━━━━━━━━━━━━━━━━━━━━━┳━━━━━━━━━━━━━━━┓\n",
       "┃<span style=\"font-weight: bold\"> Layer (type)                    </span>┃<span style=\"font-weight: bold\"> Output Shape           </span>┃<span style=\"font-weight: bold\">       Param # </span>┃\n",
       "┡━━━━━━━━━━━━━━━━━━━━━━━━━━━━━━━━━╇━━━━━━━━━━━━━━━━━━━━━━━━╇━━━━━━━━━━━━━━━┩\n",
       "│ input_layer (<span style=\"color: #0087ff; text-decoration-color: #0087ff\">InputLayer</span>)        │ (<span style=\"color: #00d7ff; text-decoration-color: #00d7ff\">None</span>, <span style=\"color: #00af00; text-decoration-color: #00af00\">19</span>, <span style=\"color: #00af00; text-decoration-color: #00af00\">15</span>)         │             <span style=\"color: #00af00; text-decoration-color: #00af00\">0</span> │\n",
       "├─────────────────────────────────┼────────────────────────┼───────────────┤\n",
       "│ flatten (<span style=\"color: #0087ff; text-decoration-color: #0087ff\">Flatten</span>)               │ (<span style=\"color: #00d7ff; text-decoration-color: #00d7ff\">None</span>, <span style=\"color: #00af00; text-decoration-color: #00af00\">285</span>)            │             <span style=\"color: #00af00; text-decoration-color: #00af00\">0</span> │\n",
       "├─────────────────────────────────┼────────────────────────┼───────────────┤\n",
       "│ repeat_vector (<span style=\"color: #0087ff; text-decoration-color: #0087ff\">RepeatVector</span>)    │ (<span style=\"color: #00d7ff; text-decoration-color: #00d7ff\">None</span>, <span style=\"color: #00af00; text-decoration-color: #00af00\">4</span>, <span style=\"color: #00af00; text-decoration-color: #00af00\">285</span>)         │             <span style=\"color: #00af00; text-decoration-color: #00af00\">0</span> │\n",
       "├─────────────────────────────────┼────────────────────────┼───────────────┤\n",
       "│ conv1d (<span style=\"color: #0087ff; text-decoration-color: #0087ff\">Conv1D</span>)                 │ (<span style=\"color: #00d7ff; text-decoration-color: #00d7ff\">None</span>, <span style=\"color: #00af00; text-decoration-color: #00af00\">4</span>, <span style=\"color: #00af00; text-decoration-color: #00af00\">38</span>)          │        <span style=\"color: #00af00; text-decoration-color: #00af00\">54,188</span> │\n",
       "├─────────────────────────────────┼────────────────────────┼───────────────┤\n",
       "│ max_pooling1d (<span style=\"color: #0087ff; text-decoration-color: #0087ff\">MaxPooling1D</span>)    │ (<span style=\"color: #00d7ff; text-decoration-color: #00d7ff\">None</span>, <span style=\"color: #00af00; text-decoration-color: #00af00\">2</span>, <span style=\"color: #00af00; text-decoration-color: #00af00\">38</span>)          │             <span style=\"color: #00af00; text-decoration-color: #00af00\">0</span> │\n",
       "├─────────────────────────────────┼────────────────────────┼───────────────┤\n",
       "│ flatten_1 (<span style=\"color: #0087ff; text-decoration-color: #0087ff\">Flatten</span>)             │ (<span style=\"color: #00d7ff; text-decoration-color: #00d7ff\">None</span>, <span style=\"color: #00af00; text-decoration-color: #00af00\">76</span>)             │             <span style=\"color: #00af00; text-decoration-color: #00af00\">0</span> │\n",
       "├─────────────────────────────────┼────────────────────────┼───────────────┤\n",
       "│ repeat_vector_1 (<span style=\"color: #0087ff; text-decoration-color: #0087ff\">RepeatVector</span>)  │ (<span style=\"color: #00d7ff; text-decoration-color: #00d7ff\">None</span>, <span style=\"color: #00af00; text-decoration-color: #00af00\">4</span>, <span style=\"color: #00af00; text-decoration-color: #00af00\">76</span>)          │             <span style=\"color: #00af00; text-decoration-color: #00af00\">0</span> │\n",
       "├─────────────────────────────────┼────────────────────────┼───────────────┤\n",
       "│ conv1d_1 (<span style=\"color: #0087ff; text-decoration-color: #0087ff\">Conv1D</span>)               │ (<span style=\"color: #00d7ff; text-decoration-color: #00d7ff\">None</span>, <span style=\"color: #00af00; text-decoration-color: #00af00\">4</span>, <span style=\"color: #00af00; text-decoration-color: #00af00\">19</span>)          │         <span style=\"color: #00af00; text-decoration-color: #00af00\">7,239</span> │\n",
       "├─────────────────────────────────┼────────────────────────┼───────────────┤\n",
       "│ max_pooling1d_1 (<span style=\"color: #0087ff; text-decoration-color: #0087ff\">MaxPooling1D</span>)  │ (<span style=\"color: #00d7ff; text-decoration-color: #00d7ff\">None</span>, <span style=\"color: #00af00; text-decoration-color: #00af00\">2</span>, <span style=\"color: #00af00; text-decoration-color: #00af00\">19</span>)          │             <span style=\"color: #00af00; text-decoration-color: #00af00\">0</span> │\n",
       "├─────────────────────────────────┼────────────────────────┼───────────────┤\n",
       "│ flatten_2 (<span style=\"color: #0087ff; text-decoration-color: #0087ff\">Flatten</span>)             │ (<span style=\"color: #00d7ff; text-decoration-color: #00d7ff\">None</span>, <span style=\"color: #00af00; text-decoration-color: #00af00\">38</span>)             │             <span style=\"color: #00af00; text-decoration-color: #00af00\">0</span> │\n",
       "├─────────────────────────────────┼────────────────────────┼───────────────┤\n",
       "│ dense (<span style=\"color: #0087ff; text-decoration-color: #0087ff\">Dense</span>)                   │ (<span style=\"color: #00d7ff; text-decoration-color: #00d7ff\">None</span>, <span style=\"color: #00af00; text-decoration-color: #00af00\">1900</span>)           │        <span style=\"color: #00af00; text-decoration-color: #00af00\">74,100</span> │\n",
       "├─────────────────────────────────┼────────────────────────┼───────────────┤\n",
       "│ dropout (<span style=\"color: #0087ff; text-decoration-color: #0087ff\">Dropout</span>)               │ (<span style=\"color: #00d7ff; text-decoration-color: #00d7ff\">None</span>, <span style=\"color: #00af00; text-decoration-color: #00af00\">1900</span>)           │             <span style=\"color: #00af00; text-decoration-color: #00af00\">0</span> │\n",
       "├─────────────────────────────────┼────────────────────────┼───────────────┤\n",
       "│ dense_1 (<span style=\"color: #0087ff; text-decoration-color: #0087ff\">Dense</span>)                 │ (<span style=\"color: #00d7ff; text-decoration-color: #00d7ff\">None</span>, <span style=\"color: #00af00; text-decoration-color: #00af00\">2</span>)              │         <span style=\"color: #00af00; text-decoration-color: #00af00\">3,802</span> │\n",
       "└─────────────────────────────────┴────────────────────────┴───────────────┘\n",
       "</pre>\n"
      ],
      "text/plain": [
       "┏━━━━━━━━━━━━━━━━━━━━━━━━━━━━━━━━━┳━━━━━━━━━━━━━━━━━━━━━━━━┳━━━━━━━━━━━━━━━┓\n",
       "┃\u001b[1m \u001b[0m\u001b[1mLayer (type)                   \u001b[0m\u001b[1m \u001b[0m┃\u001b[1m \u001b[0m\u001b[1mOutput Shape          \u001b[0m\u001b[1m \u001b[0m┃\u001b[1m \u001b[0m\u001b[1m      Param #\u001b[0m\u001b[1m \u001b[0m┃\n",
       "┡━━━━━━━━━━━━━━━━━━━━━━━━━━━━━━━━━╇━━━━━━━━━━━━━━━━━━━━━━━━╇━━━━━━━━━━━━━━━┩\n",
       "│ input_layer (\u001b[38;5;33mInputLayer\u001b[0m)        │ (\u001b[38;5;45mNone\u001b[0m, \u001b[38;5;34m19\u001b[0m, \u001b[38;5;34m15\u001b[0m)         │             \u001b[38;5;34m0\u001b[0m │\n",
       "├─────────────────────────────────┼────────────────────────┼───────────────┤\n",
       "│ flatten (\u001b[38;5;33mFlatten\u001b[0m)               │ (\u001b[38;5;45mNone\u001b[0m, \u001b[38;5;34m285\u001b[0m)            │             \u001b[38;5;34m0\u001b[0m │\n",
       "├─────────────────────────────────┼────────────────────────┼───────────────┤\n",
       "│ repeat_vector (\u001b[38;5;33mRepeatVector\u001b[0m)    │ (\u001b[38;5;45mNone\u001b[0m, \u001b[38;5;34m4\u001b[0m, \u001b[38;5;34m285\u001b[0m)         │             \u001b[38;5;34m0\u001b[0m │\n",
       "├─────────────────────────────────┼────────────────────────┼───────────────┤\n",
       "│ conv1d (\u001b[38;5;33mConv1D\u001b[0m)                 │ (\u001b[38;5;45mNone\u001b[0m, \u001b[38;5;34m4\u001b[0m, \u001b[38;5;34m38\u001b[0m)          │        \u001b[38;5;34m54,188\u001b[0m │\n",
       "├─────────────────────────────────┼────────────────────────┼───────────────┤\n",
       "│ max_pooling1d (\u001b[38;5;33mMaxPooling1D\u001b[0m)    │ (\u001b[38;5;45mNone\u001b[0m, \u001b[38;5;34m2\u001b[0m, \u001b[38;5;34m38\u001b[0m)          │             \u001b[38;5;34m0\u001b[0m │\n",
       "├─────────────────────────────────┼────────────────────────┼───────────────┤\n",
       "│ flatten_1 (\u001b[38;5;33mFlatten\u001b[0m)             │ (\u001b[38;5;45mNone\u001b[0m, \u001b[38;5;34m76\u001b[0m)             │             \u001b[38;5;34m0\u001b[0m │\n",
       "├─────────────────────────────────┼────────────────────────┼───────────────┤\n",
       "│ repeat_vector_1 (\u001b[38;5;33mRepeatVector\u001b[0m)  │ (\u001b[38;5;45mNone\u001b[0m, \u001b[38;5;34m4\u001b[0m, \u001b[38;5;34m76\u001b[0m)          │             \u001b[38;5;34m0\u001b[0m │\n",
       "├─────────────────────────────────┼────────────────────────┼───────────────┤\n",
       "│ conv1d_1 (\u001b[38;5;33mConv1D\u001b[0m)               │ (\u001b[38;5;45mNone\u001b[0m, \u001b[38;5;34m4\u001b[0m, \u001b[38;5;34m19\u001b[0m)          │         \u001b[38;5;34m7,239\u001b[0m │\n",
       "├─────────────────────────────────┼────────────────────────┼───────────────┤\n",
       "│ max_pooling1d_1 (\u001b[38;5;33mMaxPooling1D\u001b[0m)  │ (\u001b[38;5;45mNone\u001b[0m, \u001b[38;5;34m2\u001b[0m, \u001b[38;5;34m19\u001b[0m)          │             \u001b[38;5;34m0\u001b[0m │\n",
       "├─────────────────────────────────┼────────────────────────┼───────────────┤\n",
       "│ flatten_2 (\u001b[38;5;33mFlatten\u001b[0m)             │ (\u001b[38;5;45mNone\u001b[0m, \u001b[38;5;34m38\u001b[0m)             │             \u001b[38;5;34m0\u001b[0m │\n",
       "├─────────────────────────────────┼────────────────────────┼───────────────┤\n",
       "│ dense (\u001b[38;5;33mDense\u001b[0m)                   │ (\u001b[38;5;45mNone\u001b[0m, \u001b[38;5;34m1900\u001b[0m)           │        \u001b[38;5;34m74,100\u001b[0m │\n",
       "├─────────────────────────────────┼────────────────────────┼───────────────┤\n",
       "│ dropout (\u001b[38;5;33mDropout\u001b[0m)               │ (\u001b[38;5;45mNone\u001b[0m, \u001b[38;5;34m1900\u001b[0m)           │             \u001b[38;5;34m0\u001b[0m │\n",
       "├─────────────────────────────────┼────────────────────────┼───────────────┤\n",
       "│ dense_1 (\u001b[38;5;33mDense\u001b[0m)                 │ (\u001b[38;5;45mNone\u001b[0m, \u001b[38;5;34m2\u001b[0m)              │         \u001b[38;5;34m3,802\u001b[0m │\n",
       "└─────────────────────────────────┴────────────────────────┴───────────────┘\n"
      ]
     },
     "metadata": {},
     "output_type": "display_data"
    },
    {
     "data": {
      "text/html": [
       "<pre style=\"white-space:pre;overflow-x:auto;line-height:normal;font-family:Menlo,'DejaVu Sans Mono',consolas,'Courier New',monospace\"><span style=\"font-weight: bold\"> Total params: </span><span style=\"color: #00af00; text-decoration-color: #00af00\">139,329</span> (544.25 KB)\n",
       "</pre>\n"
      ],
      "text/plain": [
       "\u001b[1m Total params: \u001b[0m\u001b[38;5;34m139,329\u001b[0m (544.25 KB)\n"
      ]
     },
     "metadata": {},
     "output_type": "display_data"
    },
    {
     "data": {
      "text/html": [
       "<pre style=\"white-space:pre;overflow-x:auto;line-height:normal;font-family:Menlo,'DejaVu Sans Mono',consolas,'Courier New',monospace\"><span style=\"font-weight: bold\"> Trainable params: </span><span style=\"color: #00af00; text-decoration-color: #00af00\">139,329</span> (544.25 KB)\n",
       "</pre>\n"
      ],
      "text/plain": [
       "\u001b[1m Trainable params: \u001b[0m\u001b[38;5;34m139,329\u001b[0m (544.25 KB)\n"
      ]
     },
     "metadata": {},
     "output_type": "display_data"
    },
    {
     "data": {
      "text/html": [
       "<pre style=\"white-space:pre;overflow-x:auto;line-height:normal;font-family:Menlo,'DejaVu Sans Mono',consolas,'Courier New',monospace\"><span style=\"font-weight: bold\"> Non-trainable params: </span><span style=\"color: #00af00; text-decoration-color: #00af00\">0</span> (0.00 B)\n",
       "</pre>\n"
      ],
      "text/plain": [
       "\u001b[1m Non-trainable params: \u001b[0m\u001b[38;5;34m0\u001b[0m (0.00 B)\n"
      ]
     },
     "metadata": {},
     "output_type": "display_data"
    },
    {
     "name": "stdout",
     "output_type": "stream",
     "text": [
      "Обучение 6 эпох\n",
      "Epoch 1/6\n"
     ]
    },
    {
     "name": "stderr",
     "output_type": "stream",
     "text": [
      "WARNING: All log messages before absl::InitializeLog() is called are written to STDERR\n",
      "I0000 00:00:1747651696.029571   12784 service.cc:148] XLA service 0x7f3198009e70 initialized for platform CUDA (this does not guarantee that XLA will be used). Devices:\n",
      "I0000 00:00:1747651696.029681   12784 service.cc:156]   StreamExecutor device (0): NVIDIA GeForce RTX 4060 Laptop GPU, Compute Capability 8.9\n",
      "I0000 00:00:1747651696.221236   12784 cuda_dnn.cc:529] Loaded cuDNN version 90300\n"
     ]
    },
    {
     "name": "stdout",
     "output_type": "stream",
     "text": [
      "\u001b[1m 63/568\u001b[0m \u001b[32m━━\u001b[0m\u001b[37m━━━━━━━━━━━━━━━━━━\u001b[0m \u001b[1m1s\u001b[0m 2ms/step - accuracy: 0.6852 - loss: 0.6156"
     ]
    },
    {
     "name": "stderr",
     "output_type": "stream",
     "text": [
      "I0000 00:00:1747651698.361523   12784 device_compiler.h:188] Compiled cluster using XLA!  This line is logged at most once for the lifetime of the process.\n"
     ]
    },
    {
     "name": "stdout",
     "output_type": "stream",
     "text": [
      "\u001b[1m568/568\u001b[0m \u001b[32m━━━━━━━━━━━━━━━━━━━━\u001b[0m\u001b[37m\u001b[0m \u001b[1m8s\u001b[0m 8ms/step - accuracy: 0.8471 - loss: 0.3524 - val_accuracy: 0.9535 - val_loss: 0.1575\n",
      "Epoch 2/6\n",
      "\u001b[1m568/568\u001b[0m \u001b[32m━━━━━━━━━━━━━━━━━━━━\u001b[0m\u001b[37m\u001b[0m \u001b[1m1s\u001b[0m 2ms/step - accuracy: 0.9207 - loss: 0.2073 - val_accuracy: 0.9466 - val_loss: 0.1568\n",
      "Epoch 3/6\n",
      "\u001b[1m568/568\u001b[0m \u001b[32m━━━━━━━━━━━━━━━━━━━━\u001b[0m\u001b[37m\u001b[0m \u001b[1m1s\u001b[0m 2ms/step - accuracy: 0.9259 - loss: 0.1962 - val_accuracy: 0.9501 - val_loss: 0.1472\n",
      "Epoch 4/6\n",
      "\u001b[1m568/568\u001b[0m \u001b[32m━━━━━━━━━━━━━━━━━━━━\u001b[0m\u001b[37m\u001b[0m \u001b[1m2s\u001b[0m 3ms/step - accuracy: 0.9327 - loss: 0.1892 - val_accuracy: 0.9535 - val_loss: 0.1482\n",
      "Epoch 5/6\n",
      "\u001b[1m568/568\u001b[0m \u001b[32m━━━━━━━━━━━━━━━━━━━━\u001b[0m\u001b[37m\u001b[0m \u001b[1m1s\u001b[0m 3ms/step - accuracy: 0.9266 - loss: 0.1884 - val_accuracy: 0.9587 - val_loss: 0.1455\n",
      "Epoch 6/6\n",
      "\u001b[1m568/568\u001b[0m \u001b[32m━━━━━━━━━━━━━━━━━━━━\u001b[0m\u001b[37m\u001b[0m \u001b[1m1s\u001b[0m 3ms/step - accuracy: 0.9321 - loss: 0.1812 - val_accuracy: 0.9501 - val_loss: 0.1447\n"
     ]
    },
    {
     "data": {
      "image/png": "[encoded data removed]",
      "text/plain": [
       "<Figure size 1000x600 with 2 Axes>"
      ]
     },
     "metadata": {},
     "output_type": "display_data"
    },
    {
     "name": "stdout",
     "output_type": "stream",
     "text": [
      "\u001b[1m19/19\u001b[0m \u001b[32m━━━━━━━━━━━━━━━━━━━━\u001b[0m\u001b[37m\u001b[0m \u001b[1m0s\u001b[0m 14ms/step\n"
     ]
    },
    {
     "data": {
      "image/png": "[encoded data removed]",
      "text/plain": [
       "<Figure size 800x800 with 1 Axes>"
      ]
     },
     "metadata": {},
     "output_type": "display_data"
    }
   ],
   "source": [
    "# Обучение и вывод результатов работы модели\n",
    "train_eval_model(model, x_train, y_train, [(6, Adam(learning_rate=1e-04))],\n",
    "                 x_test, y_test, title='предсказание тренда')"
   ]
  },
  {
   "cell_type": "markdown",
   "metadata": {
    "id": "xpKnFR8bqqyY"
   },
   "source": [
    "**Вывод**: данная сеть неплохо справляется с предсказанием тренда роста цены акций. Если поэкспериментировать с архитектурой, возможно, удастся достичь ещё большей точности."
   ]
  },
  {
   "cell_type": "markdown",
   "metadata": {
    "id": "2jdGuhi61hzh"
   },
   "source": [
    "**Содержание темы**\n",
    "\n",
    "1. [Теория](https://colab.research.google.com/drive/1i7yg4JvtG_L24T_2VPVTTWlXWrRdgvqQ?usp=sharing)\n",
    "\n",
    "2. [Практический ноутбук 1](https://colab.research.google.com/drive/1JhNKmphhIAZ9MCqm9_-vsnJkiLxTTv5d?usp=sharing)\n",
    "\n",
    "3. Практический ноутбук 2\n"
   ]
  },
  {
   "cell_type": "code",
   "execution_count": null,
   "metadata": {
    "id": "b77l2ivjggiR"
   },
   "outputs": [],
   "source": []
  }
 ],
 "metadata": {
  "accelerator": "GPU",
  "colab": {
   "machine_shape": "hm",
   "provenance": []
  },
  "kernelspec": {
   "display_name": "global-cKEoLTwX-py3.12",
   "language": "python",
   "name": "python3"
  },
  "language_info": {
   "codemirror_mode": {
    "name": "ipython",
    "version": 3
   },
   "file_extension": ".py",
   "mimetype": "text/x-python",
   "name": "python",
   "nbconvert_exporter": "python",
   "pygments_lexer": "ipython3",
   "version": "3.12.3"
  }
 },
 "nbformat": 4,
 "nbformat_minor": 0
}
